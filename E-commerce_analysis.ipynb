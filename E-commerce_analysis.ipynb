{
 "cells": [
  {
   "cell_type": "markdown",
   "id": "86f7631a",
   "metadata": {},
   "source": [
    "### Data Set Information:\n",
    "\n",
    "This is a transnational data set which contains all the transactions occurring between 01/12/2010 and 09/12/2011 for a UK-based and registered non-store online retail.The company mainly sells unique all-occasion gifts. Many customers of the company are wholesalers.\n",
    "\n",
    "\n",
    "Online Retail Data Set:\n",
    "https://archive.ics.uci.edu/ml/datasets/online%2Bretail#"
   ]
  },
  {
   "cell_type": "markdown",
   "id": "c9afdcda",
   "metadata": {},
   "source": [
    "#### Attribute Information of the provided data:\n",
    "\n",
    "* InvoiceNo : Invoice number. Nominal, a 6-digit integral number uniquely assigned to each transaction. If this code starts with letter 'c', it indicates a cancellation.\n",
    "* StockCode: Product (item) code. Nominal, a 5-digit integral number uniquely assigned to each distinct product.\n",
    "* Description: Product (item) name. Nominal.\n",
    "* Quantity: The quantities of each product (item) per transaction. Numeric.\n",
    "* InvoiceDate: Invice Date and time. Numeric, the day and time when each transaction was generated.\n",
    "* UnitPrice: Unit price. Numeric, Product price per unit in sterling.\n",
    "* CustomerID: Customer number. Nominal, a 5-digit integral number uniquely assigned to each customer.\n",
    "* Country: Country name. Nominal, the name of the country where each customer resides.\n",
    "\n"
   ]
  },
  {
   "cell_type": "markdown",
   "id": "a462f500",
   "metadata": {},
   "source": [
    "#### Source:\n",
    "\n",
    "Dr Daqing Chen, Director: Public Analytics group. chend '@' lsbu.ac.uk, School of Engineering, London South Bank University, London SE1 0AA, UK."
   ]
  },
  {
   "cell_type": "markdown",
   "id": "c7d70d6b",
   "metadata": {},
   "source": [
    "#### Relevant Papers:\n",
    "\n",
    "The evolution of direct, data and digital marketing, Richard Webber, Journal of Direct, Data and Digital Marketing Practice (2013) 14, 291â€“309.\n",
    "Clustering Experiments on Big Transaction Data for Market Segmentation,\n",
    "Ashishkumar Singh, Grace Rumantir, Annie South, Blair Bethwaite, Proceedings of the 2014 International Conference on Big Data Science and Computing.\n",
    "A decision-making framework for precision marketing, Zhen You, Yain-Whar Si, Defu Zhang, XiangXiang Zeng, Stephen C.H. Leung c, Tao Li, Expert Systems with Applications, 42 (2015) 3357â€“3367."
   ]
  },
  {
   "cell_type": "markdown",
   "id": "7c2a66ef",
   "metadata": {},
   "source": [
    "#### Citation Request:\n",
    "\n",
    "Daqing Chen, Sai Liang Sain, and Kun Guo, Data mining for the online retail industry: A case study of RFM model-based customer segmentation using data mining, Journal of Database Marketing and Customer Strategy Management, Vol. 19, No. 3, pp. 197â€“208, 2012 (Published online before print: 27 August 2012. doi: 10.1057/dbm.2012.17)."
   ]
  },
  {
   "cell_type": "markdown",
   "id": "286cf1a3",
   "metadata": {},
   "source": [
    "### List of required analyzes:\n",
    "    1. What is the number of canceled orders during 2011? Visualize the results as a percentage ratio.\n",
    "    \n",
    "    2. Extract to a separate Excel file the orders for 2011 only. The file name should be \"Orders_in_2011.xlsx\"\n",
    "    \n",
    "    3. Compare the orders in the first half with the second half of 2011. Do not take into account whether the order was rejected or fulfilled if the canceled orders for the whole year are below 2%. Visualize the results.\n",
    "    \n",
    "    4. Find the top 20 best products to prepare a marketing campaign.  Visualize the results.\n",
    "    \n",
    "    5. Are the sales of these 20 most sold products depending on the price of the product?\n",
    "    \n",
    "    6.* Find the countries with the most sales that you would recommend starting an online marketing campaign. Use the sales for 2011.\n",
    "    \n",
    "    7.* What was the best month for sales? How moch was earned that month? Plot the ortders per month.\n",
    "    \n",
    "    8.* What time should we display advertisments to maximize likelihood of customer's buying products?\n",
    "    \n",
    "    9.* Find the Key Clients to send them gifts, promotional materials and contract for distribution\n",
    "    \n",
    "    * Let the analysis be reusable with a different datasets or a different number of products, if possible."
   ]
  },
  {
   "cell_type": "code",
   "execution_count": 1,
   "id": "4a73e80e",
   "metadata": {},
   "outputs": [],
   "source": [
    "%matplotlib inline\n",
    "\n",
    "import pandas as pd\n",
    "import numpy as np\n",
    "import matplotlib.pyplot as plt\n",
    "\n",
    "pd.options.mode.chained_assignment = None"
   ]
  },
  {
   "cell_type": "code",
   "execution_count": 2,
   "id": "466b4561",
   "metadata": {},
   "outputs": [],
   "source": [
    "# Read the main data. The data set contains more than 500000 rows. It may take some time.\n",
    "\n",
    "main_data = pd.read_excel('https://archive.ics.uci.edu/ml/machine-learning-databases/00352/Online%20Retail.xlsx')"
   ]
  },
  {
   "cell_type": "markdown",
   "id": "d888882f",
   "metadata": {},
   "source": [
    "Let's get to know the data provided"
   ]
  },
  {
   "cell_type": "code",
   "execution_count": 3,
   "id": "36beb7fc",
   "metadata": {},
   "outputs": [
    {
     "data": {
      "text/html": [
       "<div>\n",
       "<style scoped>\n",
       "    .dataframe tbody tr th:only-of-type {\n",
       "        vertical-align: middle;\n",
       "    }\n",
       "\n",
       "    .dataframe tbody tr th {\n",
       "        vertical-align: top;\n",
       "    }\n",
       "\n",
       "    .dataframe thead th {\n",
       "        text-align: right;\n",
       "    }\n",
       "</style>\n",
       "<table border=\"1\" class=\"dataframe\">\n",
       "  <thead>\n",
       "    <tr style=\"text-align: right;\">\n",
       "      <th></th>\n",
       "      <th>InvoiceNo</th>\n",
       "      <th>StockCode</th>\n",
       "      <th>Description</th>\n",
       "      <th>Quantity</th>\n",
       "      <th>InvoiceDate</th>\n",
       "      <th>UnitPrice</th>\n",
       "      <th>CustomerID</th>\n",
       "      <th>Country</th>\n",
       "    </tr>\n",
       "  </thead>\n",
       "  <tbody>\n",
       "    <tr>\n",
       "      <th>0</th>\n",
       "      <td>536365</td>\n",
       "      <td>85123A</td>\n",
       "      <td>WHITE HANGING HEART T-LIGHT HOLDER</td>\n",
       "      <td>6</td>\n",
       "      <td>2010-12-01 08:26:00</td>\n",
       "      <td>2.55</td>\n",
       "      <td>17850.0</td>\n",
       "      <td>United Kingdom</td>\n",
       "    </tr>\n",
       "    <tr>\n",
       "      <th>1</th>\n",
       "      <td>536365</td>\n",
       "      <td>71053</td>\n",
       "      <td>WHITE METAL LANTERN</td>\n",
       "      <td>6</td>\n",
       "      <td>2010-12-01 08:26:00</td>\n",
       "      <td>3.39</td>\n",
       "      <td>17850.0</td>\n",
       "      <td>United Kingdom</td>\n",
       "    </tr>\n",
       "    <tr>\n",
       "      <th>2</th>\n",
       "      <td>536365</td>\n",
       "      <td>84406B</td>\n",
       "      <td>CREAM CUPID HEARTS COAT HANGER</td>\n",
       "      <td>8</td>\n",
       "      <td>2010-12-01 08:26:00</td>\n",
       "      <td>2.75</td>\n",
       "      <td>17850.0</td>\n",
       "      <td>United Kingdom</td>\n",
       "    </tr>\n",
       "    <tr>\n",
       "      <th>3</th>\n",
       "      <td>536365</td>\n",
       "      <td>84029G</td>\n",
       "      <td>KNITTED UNION FLAG HOT WATER BOTTLE</td>\n",
       "      <td>6</td>\n",
       "      <td>2010-12-01 08:26:00</td>\n",
       "      <td>3.39</td>\n",
       "      <td>17850.0</td>\n",
       "      <td>United Kingdom</td>\n",
       "    </tr>\n",
       "    <tr>\n",
       "      <th>4</th>\n",
       "      <td>536365</td>\n",
       "      <td>84029E</td>\n",
       "      <td>RED WOOLLY HOTTIE WHITE HEART.</td>\n",
       "      <td>6</td>\n",
       "      <td>2010-12-01 08:26:00</td>\n",
       "      <td>3.39</td>\n",
       "      <td>17850.0</td>\n",
       "      <td>United Kingdom</td>\n",
       "    </tr>\n",
       "  </tbody>\n",
       "</table>\n",
       "</div>"
      ],
      "text/plain": [
       "  InvoiceNo StockCode                          Description  Quantity  \\\n",
       "0    536365    85123A   WHITE HANGING HEART T-LIGHT HOLDER         6   \n",
       "1    536365     71053                  WHITE METAL LANTERN         6   \n",
       "2    536365    84406B       CREAM CUPID HEARTS COAT HANGER         8   \n",
       "3    536365    84029G  KNITTED UNION FLAG HOT WATER BOTTLE         6   \n",
       "4    536365    84029E       RED WOOLLY HOTTIE WHITE HEART.         6   \n",
       "\n",
       "          InvoiceDate  UnitPrice  CustomerID         Country  \n",
       "0 2010-12-01 08:26:00       2.55     17850.0  United Kingdom  \n",
       "1 2010-12-01 08:26:00       3.39     17850.0  United Kingdom  \n",
       "2 2010-12-01 08:26:00       2.75     17850.0  United Kingdom  \n",
       "3 2010-12-01 08:26:00       3.39     17850.0  United Kingdom  \n",
       "4 2010-12-01 08:26:00       3.39     17850.0  United Kingdom  "
      ]
     },
     "execution_count": 3,
     "metadata": {},
     "output_type": "execute_result"
    }
   ],
   "source": [
    "main_data.head(5)"
   ]
  },
  {
   "cell_type": "code",
   "execution_count": 4,
   "id": "4d04a020",
   "metadata": {},
   "outputs": [
    {
     "data": {
      "text/html": [
       "<div>\n",
       "<style scoped>\n",
       "    .dataframe tbody tr th:only-of-type {\n",
       "        vertical-align: middle;\n",
       "    }\n",
       "\n",
       "    .dataframe tbody tr th {\n",
       "        vertical-align: top;\n",
       "    }\n",
       "\n",
       "    .dataframe thead th {\n",
       "        text-align: right;\n",
       "    }\n",
       "</style>\n",
       "<table border=\"1\" class=\"dataframe\">\n",
       "  <thead>\n",
       "    <tr style=\"text-align: right;\">\n",
       "      <th></th>\n",
       "      <th>InvoiceNo</th>\n",
       "      <th>StockCode</th>\n",
       "      <th>Description</th>\n",
       "      <th>Quantity</th>\n",
       "      <th>InvoiceDate</th>\n",
       "      <th>UnitPrice</th>\n",
       "      <th>CustomerID</th>\n",
       "      <th>Country</th>\n",
       "    </tr>\n",
       "  </thead>\n",
       "  <tbody>\n",
       "    <tr>\n",
       "      <th>541904</th>\n",
       "      <td>581587</td>\n",
       "      <td>22613</td>\n",
       "      <td>PACK OF 20 SPACEBOY NAPKINS</td>\n",
       "      <td>12</td>\n",
       "      <td>2011-12-09 12:50:00</td>\n",
       "      <td>0.85</td>\n",
       "      <td>12680.0</td>\n",
       "      <td>France</td>\n",
       "    </tr>\n",
       "    <tr>\n",
       "      <th>541905</th>\n",
       "      <td>581587</td>\n",
       "      <td>22899</td>\n",
       "      <td>CHILDREN'S APRON DOLLY GIRL</td>\n",
       "      <td>6</td>\n",
       "      <td>2011-12-09 12:50:00</td>\n",
       "      <td>2.10</td>\n",
       "      <td>12680.0</td>\n",
       "      <td>France</td>\n",
       "    </tr>\n",
       "    <tr>\n",
       "      <th>541906</th>\n",
       "      <td>581587</td>\n",
       "      <td>23254</td>\n",
       "      <td>CHILDRENS CUTLERY DOLLY GIRL</td>\n",
       "      <td>4</td>\n",
       "      <td>2011-12-09 12:50:00</td>\n",
       "      <td>4.15</td>\n",
       "      <td>12680.0</td>\n",
       "      <td>France</td>\n",
       "    </tr>\n",
       "    <tr>\n",
       "      <th>541907</th>\n",
       "      <td>581587</td>\n",
       "      <td>23255</td>\n",
       "      <td>CHILDRENS CUTLERY CIRCUS PARADE</td>\n",
       "      <td>4</td>\n",
       "      <td>2011-12-09 12:50:00</td>\n",
       "      <td>4.15</td>\n",
       "      <td>12680.0</td>\n",
       "      <td>France</td>\n",
       "    </tr>\n",
       "    <tr>\n",
       "      <th>541908</th>\n",
       "      <td>581587</td>\n",
       "      <td>22138</td>\n",
       "      <td>BAKING SET 9 PIECE RETROSPOT</td>\n",
       "      <td>3</td>\n",
       "      <td>2011-12-09 12:50:00</td>\n",
       "      <td>4.95</td>\n",
       "      <td>12680.0</td>\n",
       "      <td>France</td>\n",
       "    </tr>\n",
       "  </tbody>\n",
       "</table>\n",
       "</div>"
      ],
      "text/plain": [
       "       InvoiceNo StockCode                      Description  Quantity  \\\n",
       "541904    581587     22613      PACK OF 20 SPACEBOY NAPKINS        12   \n",
       "541905    581587     22899     CHILDREN'S APRON DOLLY GIRL          6   \n",
       "541906    581587     23254    CHILDRENS CUTLERY DOLLY GIRL          4   \n",
       "541907    581587     23255  CHILDRENS CUTLERY CIRCUS PARADE         4   \n",
       "541908    581587     22138    BAKING SET 9 PIECE RETROSPOT          3   \n",
       "\n",
       "               InvoiceDate  UnitPrice  CustomerID Country  \n",
       "541904 2011-12-09 12:50:00       0.85     12680.0  France  \n",
       "541905 2011-12-09 12:50:00       2.10     12680.0  France  \n",
       "541906 2011-12-09 12:50:00       4.15     12680.0  France  \n",
       "541907 2011-12-09 12:50:00       4.15     12680.0  France  \n",
       "541908 2011-12-09 12:50:00       4.95     12680.0  France  "
      ]
     },
     "execution_count": 4,
     "metadata": {},
     "output_type": "execute_result"
    }
   ],
   "source": [
    "main_data.tail(5)"
   ]
  },
  {
   "cell_type": "code",
   "execution_count": 5,
   "id": "b11bbf88",
   "metadata": {},
   "outputs": [
    {
     "data": {
      "text/plain": [
       "(541909, 8)"
      ]
     },
     "execution_count": 5,
     "metadata": {},
     "output_type": "execute_result"
    }
   ],
   "source": [
    "# check the shape of the dateframe\n",
    "\n",
    "main_data.shape"
   ]
  },
  {
   "cell_type": "code",
   "execution_count": 6,
   "id": "5444a3f7",
   "metadata": {
    "scrolled": true
   },
   "outputs": [
    {
     "data": {
      "text/plain": [
       "InvoiceNo              object\n",
       "StockCode              object\n",
       "Description            object\n",
       "Quantity                int64\n",
       "InvoiceDate    datetime64[ns]\n",
       "UnitPrice             float64\n",
       "CustomerID            float64\n",
       "Country                object\n",
       "dtype: object"
      ]
     },
     "execution_count": 6,
     "metadata": {},
     "output_type": "execute_result"
    }
   ],
   "source": [
    "# check the data types in the dateframe\n",
    "\n",
    "main_data.dtypes"
   ]
  },
  {
   "cell_type": "code",
   "execution_count": 7,
   "id": "ad915d49",
   "metadata": {},
   "outputs": [
    {
     "data": {
      "text/plain": [
       "True"
      ]
     },
     "execution_count": 7,
     "metadata": {},
     "output_type": "execute_result"
    }
   ],
   "source": [
    "# Check if there are any missing values in the entire data set\n",
    "\n",
    "main_data.isnull().values.any()"
   ]
  },
  {
   "cell_type": "code",
   "execution_count": 8,
   "id": "bf2b5a05",
   "metadata": {
    "scrolled": true
   },
   "outputs": [
    {
     "data": {
      "text/plain": [
       "(135080, 8)"
      ]
     },
     "execution_count": 8,
     "metadata": {},
     "output_type": "execute_result"
    }
   ],
   "source": [
    "# Check for rows in which NaN appears\n",
    "\n",
    "nan_df = main_data[main_data.isna().any(axis=1)]\n",
    "nan_df.shape\n"
   ]
  },
  {
   "cell_type": "markdown",
   "id": "2408e90b",
   "metadata": {},
   "source": [
    " We can see that there are 135080 rows in which NaN appears.\n",
    " Because of the significant numbers of rows, I prefere to not drop the rows that have some values stored as NaN"
   ]
  },
  {
   "cell_type": "code",
   "execution_count": 9,
   "id": "1c8994e2",
   "metadata": {},
   "outputs": [
    {
     "data": {
      "text/plain": [
       "(541909, 8)"
      ]
     },
     "execution_count": 9,
     "metadata": {},
     "output_type": "execute_result"
    }
   ],
   "source": [
    "# drop only the rows that have NaN values in every column.\n",
    "\n",
    "main_data = main_data.dropna(how=\"all\")\n",
    "main_data.shape\n"
   ]
  },
  {
   "cell_type": "markdown",
   "id": "072a498c",
   "metadata": {},
   "source": [
    "main_data keeps the shape of (541909, 8), so it seems that thete were no rows with NaN values in every column, but now we know it for sure."
   ]
  },
  {
   "cell_type": "code",
   "execution_count": 10,
   "id": "75773802",
   "metadata": {},
   "outputs": [
    {
     "data": {
      "text/plain": [
       "InvoiceNo      0.000000\n",
       "StockCode      0.000000\n",
       "Description    0.002683\n",
       "Quantity       0.000000\n",
       "InvoiceDate    0.000000\n",
       "UnitPrice      0.000000\n",
       "CustomerID     0.249267\n",
       "Country        0.000000\n",
       "dtype: float64"
      ]
     },
     "execution_count": 10,
     "metadata": {},
     "output_type": "execute_result"
    }
   ],
   "source": [
    "# check the percentage of missing data by columns\n",
    "\n",
    "main_data.isna().mean()"
   ]
  },
  {
   "cell_type": "code",
   "execution_count": 11,
   "id": "1ef8b2d6",
   "metadata": {
    "scrolled": false
   },
   "outputs": [
    {
     "data": {
      "text/plain": [
       "0   2010-12-01 08:26:00\n",
       "1   2010-12-01 08:26:00\n",
       "2   2010-12-01 08:26:00\n",
       "3   2010-12-01 08:26:00\n",
       "4   2010-12-01 08:26:00\n",
       "5   2010-12-01 08:26:00\n",
       "6   2010-12-01 08:26:00\n",
       "7   2010-12-01 08:28:00\n",
       "8   2010-12-01 08:28:00\n",
       "9   2010-12-01 08:34:00\n",
       "Name: InvoiceDate, dtype: datetime64[ns]"
      ]
     },
     "execution_count": 11,
     "metadata": {},
     "output_type": "execute_result"
    }
   ],
   "source": [
    "# check the datetime format\n",
    "\n",
    "main_data.head(10)['InvoiceDate']"
   ]
  },
  {
   "cell_type": "code",
   "execution_count": 12,
   "id": "a40acabb",
   "metadata": {},
   "outputs": [
    {
     "data": {
      "text/plain": [
       "Timestamp('2010-12-01 08:26:00')"
      ]
     },
     "execution_count": 12,
     "metadata": {},
     "output_type": "execute_result"
    }
   ],
   "source": [
    "# check the begining of the provided period\n",
    "\n",
    "main_data['InvoiceDate'].min()"
   ]
  },
  {
   "cell_type": "code",
   "execution_count": 13,
   "id": "176deac0",
   "metadata": {},
   "outputs": [
    {
     "data": {
      "text/plain": [
       "Timestamp('2011-12-09 12:50:00')"
      ]
     },
     "execution_count": 13,
     "metadata": {},
     "output_type": "execute_result"
    }
   ],
   "source": [
    "# check the end of the period\n",
    "\n",
    "main_data['InvoiceDate'].max()"
   ]
  },
  {
   "cell_type": "markdown",
   "id": "fcc1f7a1",
   "metadata": {},
   "source": [
    "#### Calculate the orders in 2011"
   ]
  },
  {
   "cell_type": "code",
   "execution_count": 14,
   "id": "661fcca9",
   "metadata": {
    "scrolled": true
   },
   "outputs": [
    {
     "data": {
      "text/html": [
       "<div>\n",
       "<style scoped>\n",
       "    .dataframe tbody tr th:only-of-type {\n",
       "        vertical-align: middle;\n",
       "    }\n",
       "\n",
       "    .dataframe tbody tr th {\n",
       "        vertical-align: top;\n",
       "    }\n",
       "\n",
       "    .dataframe thead th {\n",
       "        text-align: right;\n",
       "    }\n",
       "</style>\n",
       "<table border=\"1\" class=\"dataframe\">\n",
       "  <thead>\n",
       "    <tr style=\"text-align: right;\">\n",
       "      <th></th>\n",
       "      <th>InvoiceNo</th>\n",
       "      <th>StockCode</th>\n",
       "      <th>Description</th>\n",
       "      <th>Quantity</th>\n",
       "      <th>InvoiceDate</th>\n",
       "      <th>UnitPrice</th>\n",
       "      <th>CustomerID</th>\n",
       "      <th>Country</th>\n",
       "    </tr>\n",
       "  </thead>\n",
       "  <tbody>\n",
       "    <tr>\n",
       "      <th>42481</th>\n",
       "      <td>539993</td>\n",
       "      <td>22386</td>\n",
       "      <td>JUMBO BAG PINK POLKADOT</td>\n",
       "      <td>10</td>\n",
       "      <td>2011-01-04 10:00:00</td>\n",
       "      <td>1.95</td>\n",
       "      <td>13313.0</td>\n",
       "      <td>United Kingdom</td>\n",
       "    </tr>\n",
       "    <tr>\n",
       "      <th>42482</th>\n",
       "      <td>539993</td>\n",
       "      <td>21499</td>\n",
       "      <td>BLUE POLKADOT WRAP</td>\n",
       "      <td>25</td>\n",
       "      <td>2011-01-04 10:00:00</td>\n",
       "      <td>0.42</td>\n",
       "      <td>13313.0</td>\n",
       "      <td>United Kingdom</td>\n",
       "    </tr>\n",
       "    <tr>\n",
       "      <th>42483</th>\n",
       "      <td>539993</td>\n",
       "      <td>21498</td>\n",
       "      <td>RED RETROSPOT WRAP</td>\n",
       "      <td>25</td>\n",
       "      <td>2011-01-04 10:00:00</td>\n",
       "      <td>0.42</td>\n",
       "      <td>13313.0</td>\n",
       "      <td>United Kingdom</td>\n",
       "    </tr>\n",
       "    <tr>\n",
       "      <th>42484</th>\n",
       "      <td>539993</td>\n",
       "      <td>22379</td>\n",
       "      <td>RECYCLING BAG RETROSPOT</td>\n",
       "      <td>5</td>\n",
       "      <td>2011-01-04 10:00:00</td>\n",
       "      <td>2.10</td>\n",
       "      <td>13313.0</td>\n",
       "      <td>United Kingdom</td>\n",
       "    </tr>\n",
       "    <tr>\n",
       "      <th>42485</th>\n",
       "      <td>539993</td>\n",
       "      <td>20718</td>\n",
       "      <td>RED RETROSPOT SHOPPER BAG</td>\n",
       "      <td>10</td>\n",
       "      <td>2011-01-04 10:00:00</td>\n",
       "      <td>1.25</td>\n",
       "      <td>13313.0</td>\n",
       "      <td>United Kingdom</td>\n",
       "    </tr>\n",
       "  </tbody>\n",
       "</table>\n",
       "</div>"
      ],
      "text/plain": [
       "      InvoiceNo StockCode                Description  Quantity  \\\n",
       "42481    539993     22386    JUMBO BAG PINK POLKADOT        10   \n",
       "42482    539993     21499         BLUE POLKADOT WRAP        25   \n",
       "42483    539993     21498        RED RETROSPOT WRAP         25   \n",
       "42484    539993     22379   RECYCLING BAG RETROSPOT          5   \n",
       "42485    539993     20718  RED RETROSPOT SHOPPER BAG        10   \n",
       "\n",
       "              InvoiceDate  UnitPrice  CustomerID         Country  \n",
       "42481 2011-01-04 10:00:00       1.95     13313.0  United Kingdom  \n",
       "42482 2011-01-04 10:00:00       0.42     13313.0  United Kingdom  \n",
       "42483 2011-01-04 10:00:00       0.42     13313.0  United Kingdom  \n",
       "42484 2011-01-04 10:00:00       2.10     13313.0  United Kingdom  \n",
       "42485 2011-01-04 10:00:00       1.25     13313.0  United Kingdom  "
      ]
     },
     "execution_count": 14,
     "metadata": {},
     "output_type": "execute_result"
    }
   ],
   "source": [
    "# Orders in 2011 \n",
    "\n",
    "y_2011 = main_data[(main_data['InvoiceDate'] >= '2011-01-01 00:00:00') & (main_data['InvoiceDate'] < '2011-12-31 00:00:00')]\n",
    "y_2011.head()"
   ]
  },
  {
   "cell_type": "markdown",
   "id": "724c508a",
   "metadata": {},
   "source": [
    "### 1. What is the number of canceled orders during 2011? Visualize the results as a percentage ratio."
   ]
  },
  {
   "cell_type": "code",
   "execution_count": 15,
   "id": "24d017fd",
   "metadata": {},
   "outputs": [],
   "source": [
    "# function to calculate the canceled orders in dataframe if it has a column 'InvoiceNo'\n",
    "\n",
    "def sum_canceled(dataframe):\n",
    "    canceled_arr = []\n",
    "    for record in dataframe['InvoiceNo']:\n",
    "        if 'C' in str(record):\n",
    "            canceled_arr.append(record)\n",
    "    return canceled_arr"
   ]
  },
  {
   "cell_type": "code",
   "execution_count": 16,
   "id": "65ec7962",
   "metadata": {},
   "outputs": [
    {
     "data": {
      "text/plain": [
       "8560"
      ]
     },
     "execution_count": 16,
     "metadata": {},
     "output_type": "execute_result"
    }
   ],
   "source": [
    "# count the canceled orders during 2011\n",
    "\n",
    "sum_canceled_2011 = len(sum_canceled(y_2011))\n",
    "sum_canceled_2011\n"
   ]
  },
  {
   "cell_type": "code",
   "execution_count": 17,
   "id": "f5986805",
   "metadata": {},
   "outputs": [],
   "source": [
    "# function to calculate the processed orders in dataframe if it has a column 'InvoiceNo'\n",
    "\n",
    "def sum_sales(dataframe):\n",
    "    sales_arr = []\n",
    "    for record in dataframe['InvoiceNo']:\n",
    "        if 'C' in str(record):\n",
    "            continue\n",
    "        else:\n",
    "            sales_arr.append(record)\n",
    "    return sales_arr"
   ]
  },
  {
   "cell_type": "code",
   "execution_count": 18,
   "id": "98de303c",
   "metadata": {},
   "outputs": [
    {
     "data": {
      "text/plain": [
       "490868"
      ]
     },
     "execution_count": 18,
     "metadata": {},
     "output_type": "execute_result"
    }
   ],
   "source": [
    "# Count the sales during 2011\n",
    "sum_sales_2011 = len(sum_sales(y_2011))\n",
    "sum_sales_2011"
   ]
  },
  {
   "cell_type": "code",
   "execution_count": 19,
   "id": "3741c0da",
   "metadata": {},
   "outputs": [
    {
     "data": {
      "image/png": "[encoded data removed]",
      "text/plain": [
       "<Figure size 432x288 with 1 Axes>"
      ]
     },
     "metadata": {},
     "output_type": "display_data"
    }
   ],
   "source": [
    "# Pie Chart of Sales vs Canceled orders during 2011\n",
    "labels = 'Sales in 2011', 'Canceled orders in 2011'\n",
    "sizes = [sum_sales_2011, sum_canceled_2011]\n",
    "fig1, ax1 = plt.subplots()\n",
    "\n",
    "ax1.pie(sizes, labels=labels, autopct='%1.1f%%',\n",
    "        shadow=False, startangle=90)\n",
    "ax1.axis('equal')  # Equal aspect ratio ensures that pie is drawn as a circle.\n",
    "\n",
    "plt.show()"
   ]
  },
  {
   "cell_type": "markdown",
   "id": "0e289575",
   "metadata": {},
   "source": [
    "### 2. Extract to a separate Excel file the orders for 2011 only. The file name should be \"Orders_in_2011.xlsx\"\n"
   ]
  },
  {
   "cell_type": "markdown",
   "id": "db50c1d7",
   "metadata": {},
   "source": [
    "To extract orders in 2011 as a new excel file, just uncomment the following cell and re-run it"
   ]
  },
  {
   "cell_type": "code",
   "execution_count": 20,
   "id": "e8166247",
   "metadata": {},
   "outputs": [],
   "source": [
    "# y_2011.to_excel('Orders_in_2011.xlsx')"
   ]
  },
  {
   "cell_type": "markdown",
   "id": "89d04078",
   "metadata": {},
   "source": [
    "### 3. Compare the orders in the first half with the second half of 2011. Do not take into account whether the order was rejected or fulfilled if the canceled orders for the whole year are below 2%. Visualize the results."
   ]
  },
  {
   "cell_type": "markdown",
   "id": "ba7401f8",
   "metadata": {},
   "source": [
    "As we already calculated above, the canceled orders are 1,7%."
   ]
  },
  {
   "cell_type": "code",
   "execution_count": 21,
   "id": "b1d4fb64",
   "metadata": {},
   "outputs": [
    {
     "data": {
      "text/html": [
       "<div>\n",
       "<style scoped>\n",
       "    .dataframe tbody tr th:only-of-type {\n",
       "        vertical-align: middle;\n",
       "    }\n",
       "\n",
       "    .dataframe tbody tr th {\n",
       "        vertical-align: top;\n",
       "    }\n",
       "\n",
       "    .dataframe thead th {\n",
       "        text-align: right;\n",
       "    }\n",
       "</style>\n",
       "<table border=\"1\" class=\"dataframe\">\n",
       "  <thead>\n",
       "    <tr style=\"text-align: right;\">\n",
       "      <th></th>\n",
       "      <th>InvoiceNo</th>\n",
       "      <th>StockCode</th>\n",
       "      <th>Description</th>\n",
       "      <th>Quantity</th>\n",
       "      <th>InvoiceDate</th>\n",
       "      <th>UnitPrice</th>\n",
       "      <th>CustomerID</th>\n",
       "      <th>Country</th>\n",
       "    </tr>\n",
       "  </thead>\n",
       "  <tbody>\n",
       "    <tr>\n",
       "      <th>42481</th>\n",
       "      <td>539993</td>\n",
       "      <td>22386</td>\n",
       "      <td>JUMBO BAG PINK POLKADOT</td>\n",
       "      <td>10</td>\n",
       "      <td>2011-01-04 10:00:00</td>\n",
       "      <td>1.95</td>\n",
       "      <td>13313.0</td>\n",
       "      <td>United Kingdom</td>\n",
       "    </tr>\n",
       "    <tr>\n",
       "      <th>42482</th>\n",
       "      <td>539993</td>\n",
       "      <td>21499</td>\n",
       "      <td>BLUE POLKADOT WRAP</td>\n",
       "      <td>25</td>\n",
       "      <td>2011-01-04 10:00:00</td>\n",
       "      <td>0.42</td>\n",
       "      <td>13313.0</td>\n",
       "      <td>United Kingdom</td>\n",
       "    </tr>\n",
       "    <tr>\n",
       "      <th>42483</th>\n",
       "      <td>539993</td>\n",
       "      <td>21498</td>\n",
       "      <td>RED RETROSPOT WRAP</td>\n",
       "      <td>25</td>\n",
       "      <td>2011-01-04 10:00:00</td>\n",
       "      <td>0.42</td>\n",
       "      <td>13313.0</td>\n",
       "      <td>United Kingdom</td>\n",
       "    </tr>\n",
       "    <tr>\n",
       "      <th>42484</th>\n",
       "      <td>539993</td>\n",
       "      <td>22379</td>\n",
       "      <td>RECYCLING BAG RETROSPOT</td>\n",
       "      <td>5</td>\n",
       "      <td>2011-01-04 10:00:00</td>\n",
       "      <td>2.10</td>\n",
       "      <td>13313.0</td>\n",
       "      <td>United Kingdom</td>\n",
       "    </tr>\n",
       "    <tr>\n",
       "      <th>42485</th>\n",
       "      <td>539993</td>\n",
       "      <td>20718</td>\n",
       "      <td>RED RETROSPOT SHOPPER BAG</td>\n",
       "      <td>10</td>\n",
       "      <td>2011-01-04 10:00:00</td>\n",
       "      <td>1.25</td>\n",
       "      <td>13313.0</td>\n",
       "      <td>United Kingdom</td>\n",
       "    </tr>\n",
       "  </tbody>\n",
       "</table>\n",
       "</div>"
      ],
      "text/plain": [
       "      InvoiceNo StockCode                Description  Quantity  \\\n",
       "42481    539993     22386    JUMBO BAG PINK POLKADOT        10   \n",
       "42482    539993     21499         BLUE POLKADOT WRAP        25   \n",
       "42483    539993     21498        RED RETROSPOT WRAP         25   \n",
       "42484    539993     22379   RECYCLING BAG RETROSPOT          5   \n",
       "42485    539993     20718  RED RETROSPOT SHOPPER BAG        10   \n",
       "\n",
       "              InvoiceDate  UnitPrice  CustomerID         Country  \n",
       "42481 2011-01-04 10:00:00       1.95     13313.0  United Kingdom  \n",
       "42482 2011-01-04 10:00:00       0.42     13313.0  United Kingdom  \n",
       "42483 2011-01-04 10:00:00       0.42     13313.0  United Kingdom  \n",
       "42484 2011-01-04 10:00:00       2.10     13313.0  United Kingdom  \n",
       "42485 2011-01-04 10:00:00       1.25     13313.0  United Kingdom  "
      ]
     },
     "execution_count": 21,
     "metadata": {},
     "output_type": "execute_result"
    }
   ],
   "source": [
    "# fist 6 monts of sales in 2011\n",
    "\n",
    "h1_2011 = main_data[(main_data['InvoiceDate'] >= '2011-01-01 00:00:00') & (main_data['InvoiceDate'] < '2011-07-01 00:00:00')]\n",
    "h1_2011.head()"
   ]
  },
  {
   "cell_type": "code",
   "execution_count": 22,
   "id": "b3214dda",
   "metadata": {},
   "outputs": [
    {
     "data": {
      "text/html": [
       "<div>\n",
       "<style scoped>\n",
       "    .dataframe tbody tr th:only-of-type {\n",
       "        vertical-align: middle;\n",
       "    }\n",
       "\n",
       "    .dataframe tbody tr th {\n",
       "        vertical-align: top;\n",
       "    }\n",
       "\n",
       "    .dataframe thead th {\n",
       "        text-align: right;\n",
       "    }\n",
       "</style>\n",
       "<table border=\"1\" class=\"dataframe\">\n",
       "  <thead>\n",
       "    <tr style=\"text-align: right;\">\n",
       "      <th></th>\n",
       "      <th>InvoiceNo</th>\n",
       "      <th>StockCode</th>\n",
       "      <th>Description</th>\n",
       "      <th>Quantity</th>\n",
       "      <th>InvoiceDate</th>\n",
       "      <th>UnitPrice</th>\n",
       "      <th>CustomerID</th>\n",
       "      <th>Country</th>\n",
       "    </tr>\n",
       "  </thead>\n",
       "  <tbody>\n",
       "    <tr>\n",
       "      <th>245903</th>\n",
       "      <td>558638</td>\n",
       "      <td>84836</td>\n",
       "      <td>ZINC METAL HEART DECORATION</td>\n",
       "      <td>12</td>\n",
       "      <td>2011-07-01 08:16:00</td>\n",
       "      <td>1.25</td>\n",
       "      <td>16317.0</td>\n",
       "      <td>United Kingdom</td>\n",
       "    </tr>\n",
       "    <tr>\n",
       "      <th>245904</th>\n",
       "      <td>558638</td>\n",
       "      <td>71459</td>\n",
       "      <td>HANGING JAM JAR T-LIGHT HOLDER</td>\n",
       "      <td>24</td>\n",
       "      <td>2011-07-01 08:16:00</td>\n",
       "      <td>0.85</td>\n",
       "      <td>16317.0</td>\n",
       "      <td>United Kingdom</td>\n",
       "    </tr>\n",
       "    <tr>\n",
       "      <th>245905</th>\n",
       "      <td>558638</td>\n",
       "      <td>22784</td>\n",
       "      <td>LANTERN CREAM GAZEBO</td>\n",
       "      <td>3</td>\n",
       "      <td>2011-07-01 08:16:00</td>\n",
       "      <td>4.95</td>\n",
       "      <td>16317.0</td>\n",
       "      <td>United Kingdom</td>\n",
       "    </tr>\n",
       "    <tr>\n",
       "      <th>245906</th>\n",
       "      <td>558638</td>\n",
       "      <td>23145</td>\n",
       "      <td>ZINC T-LIGHT HOLDER STAR LARGE</td>\n",
       "      <td>12</td>\n",
       "      <td>2011-07-01 08:16:00</td>\n",
       "      <td>0.95</td>\n",
       "      <td>16317.0</td>\n",
       "      <td>United Kingdom</td>\n",
       "    </tr>\n",
       "    <tr>\n",
       "      <th>245907</th>\n",
       "      <td>558638</td>\n",
       "      <td>22674</td>\n",
       "      <td>FRENCH TOILET SIGN BLUE METAL</td>\n",
       "      <td>12</td>\n",
       "      <td>2011-07-01 08:16:00</td>\n",
       "      <td>1.25</td>\n",
       "      <td>16317.0</td>\n",
       "      <td>United Kingdom</td>\n",
       "    </tr>\n",
       "  </tbody>\n",
       "</table>\n",
       "</div>"
      ],
      "text/plain": [
       "       InvoiceNo StockCode                     Description  Quantity  \\\n",
       "245903    558638     84836     ZINC METAL HEART DECORATION        12   \n",
       "245904    558638     71459  HANGING JAM JAR T-LIGHT HOLDER        24   \n",
       "245905    558638     22784           LANTERN CREAM GAZEBO          3   \n",
       "245906    558638     23145  ZINC T-LIGHT HOLDER STAR LARGE        12   \n",
       "245907    558638     22674   FRENCH TOILET SIGN BLUE METAL        12   \n",
       "\n",
       "               InvoiceDate  UnitPrice  CustomerID         Country  \n",
       "245903 2011-07-01 08:16:00       1.25     16317.0  United Kingdom  \n",
       "245904 2011-07-01 08:16:00       0.85     16317.0  United Kingdom  \n",
       "245905 2011-07-01 08:16:00       4.95     16317.0  United Kingdom  \n",
       "245906 2011-07-01 08:16:00       0.95     16317.0  United Kingdom  \n",
       "245907 2011-07-01 08:16:00       1.25     16317.0  United Kingdom  "
      ]
     },
     "execution_count": 22,
     "metadata": {},
     "output_type": "execute_result"
    }
   ],
   "source": [
    "# second half 6 monts of sales in 2011\n",
    "\n",
    "h2_2011 = main_data[(main_data['InvoiceDate'] >= '2011-07-01 00:00:00') & (main_data['InvoiceDate'] < '2011-12-31 00:00:00')]\n",
    "h2_2011.head()"
   ]
  },
  {
   "cell_type": "code",
   "execution_count": 23,
   "id": "6a75358e",
   "metadata": {},
   "outputs": [],
   "source": [
    "sum_sales_h1 = len(sum_sales(h1_2011))\n",
    "sum_sales_h2 = len(sum_sales(h2_2011))"
   ]
  },
  {
   "cell_type": "code",
   "execution_count": 24,
   "id": "4e101d70",
   "metadata": {},
   "outputs": [
    {
     "data": {
      "image/png": "[encoded data removed]",
      "text/plain": [
       "<Figure size 432x288 with 1 Axes>"
      ]
     },
     "metadata": {},
     "output_type": "display_data"
    }
   ],
   "source": [
    "# Pie Chart of Orders during the first half of 2011 vs Orders during the second half of 2011\n",
    "\n",
    "labels = 'Sales durig H1 in 2011', 'Sales durig H2 in 2011'\n",
    "sizes = [sum_sales_h1, sum_sales_h2]\n",
    "fig1, ax1 = plt.subplots()\n",
    "\n",
    "ax1.pie(sizes, labels=labels, autopct='%1.1f%%',\n",
    "        shadow=False, startangle=90)\n",
    "ax1.axis('equal')  # Equal aspect ratio ensures that pie is drawn as a circle.\n",
    "\n",
    "plt.title('Orders during the first half of 2011 vs Orders during the second half of 2011')\n",
    "plt.show()"
   ]
  },
  {
   "cell_type": "markdown",
   "id": "e81e50c1",
   "metadata": {},
   "source": [
    "### 4. Find the top 20 best products to prepare a marketing campaign.  Visualize the results."
   ]
  },
  {
   "cell_type": "code",
   "execution_count": 25,
   "id": "79c300a2",
   "metadata": {},
   "outputs": [
    {
     "data": {
      "text/html": [
       "<div>\n",
       "<style scoped>\n",
       "    .dataframe tbody tr th:only-of-type {\n",
       "        vertical-align: middle;\n",
       "    }\n",
       "\n",
       "    .dataframe tbody tr th {\n",
       "        vertical-align: top;\n",
       "    }\n",
       "\n",
       "    .dataframe thead th {\n",
       "        text-align: right;\n",
       "    }\n",
       "</style>\n",
       "<table border=\"1\" class=\"dataframe\">\n",
       "  <thead>\n",
       "    <tr style=\"text-align: right;\">\n",
       "      <th></th>\n",
       "      <th>Quantity</th>\n",
       "      <th>UnitPrice</th>\n",
       "      <th>CustomerID</th>\n",
       "    </tr>\n",
       "    <tr>\n",
       "      <th>StockCode</th>\n",
       "      <th></th>\n",
       "      <th></th>\n",
       "      <th></th>\n",
       "    </tr>\n",
       "  </thead>\n",
       "  <tbody>\n",
       "    <tr>\n",
       "      <th>10002</th>\n",
       "      <td>786</td>\n",
       "      <td>41.12</td>\n",
       "      <td>485129.0</td>\n",
       "    </tr>\n",
       "    <tr>\n",
       "      <th>10080</th>\n",
       "      <td>495</td>\n",
       "      <td>9.04</td>\n",
       "      <td>333014.0</td>\n",
       "    </tr>\n",
       "    <tr>\n",
       "      <th>10120</th>\n",
       "      <td>177</td>\n",
       "      <td>5.46</td>\n",
       "      <td>421945.0</td>\n",
       "    </tr>\n",
       "    <tr>\n",
       "      <th>10125</th>\n",
       "      <td>1142</td>\n",
       "      <td>70.36</td>\n",
       "      <td>862482.0</td>\n",
       "    </tr>\n",
       "    <tr>\n",
       "      <th>10133</th>\n",
       "      <td>2645</td>\n",
       "      <td>116.93</td>\n",
       "      <td>1740199.0</td>\n",
       "    </tr>\n",
       "  </tbody>\n",
       "</table>\n",
       "</div>"
      ],
      "text/plain": [
       "           Quantity  UnitPrice  CustomerID\n",
       "StockCode                                 \n",
       "10002           786      41.12    485129.0\n",
       "10080           495       9.04    333014.0\n",
       "10120           177       5.46    421945.0\n",
       "10125          1142      70.36    862482.0\n",
       "10133          2645     116.93   1740199.0"
      ]
     },
     "execution_count": 25,
     "metadata": {},
     "output_type": "execute_result"
    }
   ],
   "source": [
    "# group by Stock code of the products\n",
    "\n",
    "grouped_by_stockcode = y_2011.groupby('StockCode').sum()\n",
    "grouped_by_stockcode.head()"
   ]
  },
  {
   "cell_type": "code",
   "execution_count": 26,
   "id": "74034ae6",
   "metadata": {},
   "outputs": [
    {
     "data": {
      "text/plain": [
       "53719"
      ]
     },
     "execution_count": 26,
     "metadata": {},
     "output_type": "execute_result"
    }
   ],
   "source": [
    "# check the max vlaue of orders for the most sold product\n",
    "\n",
    "grouped_by_stockcode['Quantity'].max()"
   ]
  },
  {
   "cell_type": "code",
   "execution_count": 27,
   "id": "71bb5c78",
   "metadata": {},
   "outputs": [],
   "source": [
    "# sort the products by vlaue of orders\n",
    "\n",
    "sorted_by_qty = grouped_by_stockcode.sort_values(by=['Quantity'], ascending=False)\n",
    "sorted_by_qty = sorted_by_qty.drop(columns=['CustomerID'])\n",
    "top_20_products = sorted_by_qty.head(20)"
   ]
  },
  {
   "cell_type": "code",
   "execution_count": 28,
   "id": "60ab236f",
   "metadata": {},
   "outputs": [],
   "source": [
    "top_20_products = top_20_products.reset_index()"
   ]
  },
  {
   "cell_type": "code",
   "execution_count": 29,
   "id": "623d47f9",
   "metadata": {},
   "outputs": [
    {
     "data": {
      "text/html": [
       "<div>\n",
       "<style scoped>\n",
       "    .dataframe tbody tr th:only-of-type {\n",
       "        vertical-align: middle;\n",
       "    }\n",
       "\n",
       "    .dataframe tbody tr th {\n",
       "        vertical-align: top;\n",
       "    }\n",
       "\n",
       "    .dataframe thead th {\n",
       "        text-align: right;\n",
       "    }\n",
       "</style>\n",
       "<table border=\"1\" class=\"dataframe\">\n",
       "  <thead>\n",
       "    <tr style=\"text-align: right;\">\n",
       "      <th></th>\n",
       "      <th>StockCode</th>\n",
       "      <th>Quantity</th>\n",
       "      <th>UnitPrice</th>\n",
       "    </tr>\n",
       "  </thead>\n",
       "  <tbody>\n",
       "    <tr>\n",
       "      <th>0</th>\n",
       "      <td>22197</td>\n",
       "      <td>53719</td>\n",
       "      <td>1386.62</td>\n",
       "    </tr>\n",
       "    <tr>\n",
       "      <th>1</th>\n",
       "      <td>84077</td>\n",
       "      <td>48652</td>\n",
       "      <td>160.58</td>\n",
       "    </tr>\n",
       "    <tr>\n",
       "      <th>2</th>\n",
       "      <td>85099B</td>\n",
       "      <td>45237</td>\n",
       "      <td>5014.04</td>\n",
       "    </tr>\n",
       "    <tr>\n",
       "      <th>3</th>\n",
       "      <td>85123A</td>\n",
       "      <td>35605</td>\n",
       "      <td>6443.42</td>\n",
       "    </tr>\n",
       "    <tr>\n",
       "      <th>4</th>\n",
       "      <td>84879</td>\n",
       "      <td>33850</td>\n",
       "      <td>2393.28</td>\n",
       "    </tr>\n",
       "    <tr>\n",
       "      <th>5</th>\n",
       "      <td>21212</td>\n",
       "      <td>31963</td>\n",
       "      <td>968.01</td>\n",
       "    </tr>\n",
       "    <tr>\n",
       "      <th>6</th>\n",
       "      <td>23084</td>\n",
       "      <td>30646</td>\n",
       "      <td>2496.53</td>\n",
       "    </tr>\n",
       "    <tr>\n",
       "      <th>7</th>\n",
       "      <td>22492</td>\n",
       "      <td>23727</td>\n",
       "      <td>278.25</td>\n",
       "    </tr>\n",
       "    <tr>\n",
       "      <th>8</th>\n",
       "      <td>22616</td>\n",
       "      <td>23621</td>\n",
       "      <td>208.91</td>\n",
       "    </tr>\n",
       "    <tr>\n",
       "      <th>9</th>\n",
       "      <td>21977</td>\n",
       "      <td>23029</td>\n",
       "      <td>614.82</td>\n",
       "    </tr>\n",
       "    <tr>\n",
       "      <th>10</th>\n",
       "      <td>22178</td>\n",
       "      <td>22552</td>\n",
       "      <td>1646.96</td>\n",
       "    </tr>\n",
       "    <tr>\n",
       "      <th>11</th>\n",
       "      <td>15036</td>\n",
       "      <td>22439</td>\n",
       "      <td>532.34</td>\n",
       "    </tr>\n",
       "    <tr>\n",
       "      <th>12</th>\n",
       "      <td>17003</td>\n",
       "      <td>21902</td>\n",
       "      <td>255.18</td>\n",
       "    </tr>\n",
       "    <tr>\n",
       "      <th>13</th>\n",
       "      <td>22386</td>\n",
       "      <td>20517</td>\n",
       "      <td>3069.51</td>\n",
       "    </tr>\n",
       "    <tr>\n",
       "      <th>14</th>\n",
       "      <td>23203</td>\n",
       "      <td>20013</td>\n",
       "      <td>2875.55</td>\n",
       "    </tr>\n",
       "    <tr>\n",
       "      <th>15</th>\n",
       "      <td>21915</td>\n",
       "      <td>19840</td>\n",
       "      <td>850.50</td>\n",
       "    </tr>\n",
       "    <tr>\n",
       "      <th>16</th>\n",
       "      <td>20725</td>\n",
       "      <td>18250</td>\n",
       "      <td>3228.20</td>\n",
       "    </tr>\n",
       "    <tr>\n",
       "      <th>17</th>\n",
       "      <td>47566</td>\n",
       "      <td>17785</td>\n",
       "      <td>9649.97</td>\n",
       "    </tr>\n",
       "    <tr>\n",
       "      <th>18</th>\n",
       "      <td>84946</td>\n",
       "      <td>16858</td>\n",
       "      <td>1275.86</td>\n",
       "    </tr>\n",
       "    <tr>\n",
       "      <th>19</th>\n",
       "      <td>20724</td>\n",
       "      <td>16790</td>\n",
       "      <td>1134.93</td>\n",
       "    </tr>\n",
       "  </tbody>\n",
       "</table>\n",
       "</div>"
      ],
      "text/plain": [
       "   StockCode  Quantity  UnitPrice\n",
       "0      22197     53719    1386.62\n",
       "1      84077     48652     160.58\n",
       "2     85099B     45237    5014.04\n",
       "3     85123A     35605    6443.42\n",
       "4      84879     33850    2393.28\n",
       "5      21212     31963     968.01\n",
       "6      23084     30646    2496.53\n",
       "7      22492     23727     278.25\n",
       "8      22616     23621     208.91\n",
       "9      21977     23029     614.82\n",
       "10     22178     22552    1646.96\n",
       "11     15036     22439     532.34\n",
       "12     17003     21902     255.18\n",
       "13     22386     20517    3069.51\n",
       "14     23203     20013    2875.55\n",
       "15     21915     19840     850.50\n",
       "16     20725     18250    3228.20\n",
       "17     47566     17785    9649.97\n",
       "18     84946     16858    1275.86\n",
       "19     20724     16790    1134.93"
      ]
     },
     "execution_count": 29,
     "metadata": {},
     "output_type": "execute_result"
    }
   ],
   "source": [
    "top_20_products"
   ]
  },
  {
   "cell_type": "code",
   "execution_count": 30,
   "id": "ddf63346",
   "metadata": {
    "scrolled": true
   },
   "outputs": [
    {
     "data": {
      "image/png": "[encoded data removed]",
      "text/plain": [
       "<Figure size 432x288 with 1 Axes>"
      ]
     },
     "metadata": {
      "needs_background": "light"
     },
     "output_type": "display_data"
    }
   ],
   "source": [
    "# Visualise the sales of top 20 products\n",
    "\n",
    "list_stocks = list(top_20_products['StockCode'].astype(str))\n",
    "list_qty = list(top_20_products['Quantity'])\n",
    "\n",
    "plt.bar(list_stocks, list_qty)\n",
    "plt.xlabel('Stock number')\n",
    "plt.ylabel('Sales qty')\n",
    "plt.title('Sales per product')\n",
    "plt.xticks(list_stocks, rotation='vertical', size=9)\n",
    "plt.show()"
   ]
  },
  {
   "cell_type": "markdown",
   "id": "53497d19",
   "metadata": {},
   "source": [
    "### 5. Are the orders of these 20 most sold products depending on the price of the product?"
   ]
  },
  {
   "cell_type": "code",
   "execution_count": 31,
   "id": "f97686ea",
   "metadata": {
    "scrolled": true
   },
   "outputs": [
    {
     "name": "stderr",
     "output_type": "stream",
     "text": [
      "<ipython-input-31-6bf26d40fd02>:14: UserWarning: FixedFormatter should only be used together with FixedLocator\n",
      "  ax1.set_xticklabels(list_stocks, rotation='vertical', size=9)\n"
     ]
    },
    {
     "data": {
      "image/png": "[encoded data removed]",
      "text/plain": [
       "<Figure size 432x288 with 2 Axes>"
      ]
     },
     "metadata": {
      "needs_background": "light"
     },
     "output_type": "display_data"
    }
   ],
   "source": [
    "# Plot the top 20 products by orders quantity and with line chart visualise the price of each product \n",
    "\n",
    "prices = top_20_products['UnitPrice'] \n",
    "prices\n",
    "fig, ax1 = plt.subplots()\n",
    "\n",
    "ax2 = ax1.twinx()\n",
    "ax1.bar(list_stocks, list_qty)\n",
    "ax2.plot(list_stocks, prices, 'r-')\n",
    "\n",
    "ax1.set_xlabel('Stock Code')\n",
    "ax1.set_ylabel('Quantity Ordered', color='b')\n",
    "ax2.set_ylabel('Price ($)', color='r')\n",
    "ax1.set_xticklabels(list_stocks, rotation='vertical', size=9)\n",
    "\n",
    "plt.show()"
   ]
  },
  {
   "cell_type": "markdown",
   "id": "97b49ddc",
   "metadata": {},
   "source": [
    "The first two products have low price and that could be one of the reasons for the high sales. \n",
    "\n",
    "What we see in the second and third products is the ratio of high sales and high price. This may be due to the product itself or there may be a high demand for these products on the market at the moment\n",
    "\n",
    "The next 13-14 products have a strong dependence of sales on low prices -> low prices = high sales."
   ]
  },
  {
   "cell_type": "markdown",
   "id": "6ceae815",
   "metadata": {},
   "source": [
    "### 6.* Find the countries with the most sales that you would recommend starting an online marketing campaign. Use the sales for 2011."
   ]
  },
  {
   "cell_type": "code",
   "execution_count": 32,
   "id": "76fe3cd8",
   "metadata": {},
   "outputs": [],
   "source": [
    "# Find the top_countries with most sales to create an audience\n",
    "\n",
    "def top_countries(dataframe, num_countries):\n",
    "    \n",
    "    data_grouped_by_county = dataframe.groupby('Country').sum()\n",
    "    data_grouped_by_county = data_grouped_by_county.sort_values(by=['Quantity'], ascending=False).head(num_countries)\n",
    "    return data_grouped_by_county"
   ]
  },
  {
   "cell_type": "code",
   "execution_count": 33,
   "id": "2126517a",
   "metadata": {},
   "outputs": [
    {
     "data": {
      "text/html": [
       "<div>\n",
       "<style scoped>\n",
       "    .dataframe tbody tr th:only-of-type {\n",
       "        vertical-align: middle;\n",
       "    }\n",
       "\n",
       "    .dataframe tbody tr th {\n",
       "        vertical-align: top;\n",
       "    }\n",
       "\n",
       "    .dataframe thead th {\n",
       "        text-align: right;\n",
       "    }\n",
       "</style>\n",
       "<table border=\"1\" class=\"dataframe\">\n",
       "  <thead>\n",
       "    <tr style=\"text-align: right;\">\n",
       "      <th></th>\n",
       "      <th>Quantity</th>\n",
       "      <th>UnitPrice</th>\n",
       "      <th>CustomerID</th>\n",
       "    </tr>\n",
       "    <tr>\n",
       "      <th>Country</th>\n",
       "      <th></th>\n",
       "      <th></th>\n",
       "      <th></th>\n",
       "    </tr>\n",
       "  </thead>\n",
       "  <tbody>\n",
       "    <tr>\n",
       "      <th>United Kingdom</th>\n",
       "      <td>3965728</td>\n",
       "      <td>1.993793e+06</td>\n",
       "      <td>5.240239e+09</td>\n",
       "    </tr>\n",
       "    <tr>\n",
       "      <th>Netherlands</th>\n",
       "      <td>193317</td>\n",
       "      <td>6.330860e+03</td>\n",
       "      <td>3.313974e+07</td>\n",
       "    </tr>\n",
       "    <tr>\n",
       "      <th>EIRE</th>\n",
       "      <td>137256</td>\n",
       "      <td>4.647406e+04</td>\n",
       "      <td>1.050326e+08</td>\n",
       "    </tr>\n",
       "    <tr>\n",
       "      <th>Germany</th>\n",
       "      <td>110725</td>\n",
       "      <td>3.548433e+04</td>\n",
       "      <td>1.129530e+08</td>\n",
       "    </tr>\n",
       "    <tr>\n",
       "      <th>France</th>\n",
       "      <td>105502</td>\n",
       "      <td>4.147463e+04</td>\n",
       "      <td>1.021018e+08</td>\n",
       "    </tr>\n",
       "    <tr>\n",
       "      <th>Australia</th>\n",
       "      <td>83199</td>\n",
       "      <td>3.911090e+03</td>\n",
       "      <td>1.525827e+07</td>\n",
       "    </tr>\n",
       "    <tr>\n",
       "      <th>Sweden</th>\n",
       "      <td>31923</td>\n",
       "      <td>1.759560e+03</td>\n",
       "      <td>6.320175e+06</td>\n",
       "    </tr>\n",
       "    <tr>\n",
       "      <th>Switzerland</th>\n",
       "      <td>29611</td>\n",
       "      <td>6.667670e+03</td>\n",
       "      <td>2.316258e+07</td>\n",
       "    </tr>\n",
       "    <tr>\n",
       "      <th>Spain</th>\n",
       "      <td>25957</td>\n",
       "      <td>1.238269e+04</td>\n",
       "      <td>3.156632e+07</td>\n",
       "    </tr>\n",
       "    <tr>\n",
       "      <th>Belgium</th>\n",
       "      <td>21397</td>\n",
       "      <td>7.266780e+03</td>\n",
       "      <td>2.454052e+07</td>\n",
       "    </tr>\n",
       "    <tr>\n",
       "      <th>Japan</th>\n",
       "      <td>21125</td>\n",
       "      <td>6.913600e+02</td>\n",
       "      <td>3.738185e+06</td>\n",
       "    </tr>\n",
       "    <tr>\n",
       "      <th>Norway</th>\n",
       "      <td>15665</td>\n",
       "      <td>6.290230e+03</td>\n",
       "      <td>1.168000e+07</td>\n",
       "    </tr>\n",
       "    <tr>\n",
       "      <th>Portugal</th>\n",
       "      <td>15235</td>\n",
       "      <td>1.253923e+04</td>\n",
       "      <td>1.733125e+07</td>\n",
       "    </tr>\n",
       "    <tr>\n",
       "      <th>Finland</th>\n",
       "      <td>9412</td>\n",
       "      <td>3.737250e+03</td>\n",
       "      <td>8.489408e+06</td>\n",
       "    </tr>\n",
       "    <tr>\n",
       "      <th>Channel Islands</th>\n",
       "      <td>9399</td>\n",
       "      <td>3.577910e+03</td>\n",
       "      <td>1.103138e+07</td>\n",
       "    </tr>\n",
       "    <tr>\n",
       "      <th>Denmark</th>\n",
       "      <td>7734</td>\n",
       "      <td>1.173980e+03</td>\n",
       "      <td>4.628154e+06</td>\n",
       "    </tr>\n",
       "    <tr>\n",
       "      <th>Italy</th>\n",
       "      <td>7706</td>\n",
       "      <td>3.663890e+03</td>\n",
       "      <td>9.638437e+06</td>\n",
       "    </tr>\n",
       "    <tr>\n",
       "      <th>Cyprus</th>\n",
       "      <td>5400</td>\n",
       "      <td>3.721390e+03</td>\n",
       "      <td>6.689170e+06</td>\n",
       "    </tr>\n",
       "    <tr>\n",
       "      <th>Singapore</th>\n",
       "      <td>5234</td>\n",
       "      <td>2.510889e+04</td>\n",
       "      <td>2.918376e+06</td>\n",
       "    </tr>\n",
       "    <tr>\n",
       "      <th>Austria</th>\n",
       "      <td>4824</td>\n",
       "      <td>1.636400e+03</td>\n",
       "      <td>4.909277e+06</td>\n",
       "    </tr>\n",
       "  </tbody>\n",
       "</table>\n",
       "</div>"
      ],
      "text/plain": [
       "                 Quantity     UnitPrice    CustomerID\n",
       "Country                                              \n",
       "United Kingdom    3965728  1.993793e+06  5.240239e+09\n",
       "Netherlands        193317  6.330860e+03  3.313974e+07\n",
       "EIRE               137256  4.647406e+04  1.050326e+08\n",
       "Germany            110725  3.548433e+04  1.129530e+08\n",
       "France             105502  4.147463e+04  1.021018e+08\n",
       "Australia           83199  3.911090e+03  1.525827e+07\n",
       "Sweden              31923  1.759560e+03  6.320175e+06\n",
       "Switzerland         29611  6.667670e+03  2.316258e+07\n",
       "Spain               25957  1.238269e+04  3.156632e+07\n",
       "Belgium             21397  7.266780e+03  2.454052e+07\n",
       "Japan               21125  6.913600e+02  3.738185e+06\n",
       "Norway              15665  6.290230e+03  1.168000e+07\n",
       "Portugal            15235  1.253923e+04  1.733125e+07\n",
       "Finland              9412  3.737250e+03  8.489408e+06\n",
       "Channel Islands      9399  3.577910e+03  1.103138e+07\n",
       "Denmark              7734  1.173980e+03  4.628154e+06\n",
       "Italy                7706  3.663890e+03  9.638437e+06\n",
       "Cyprus               5400  3.721390e+03  6.689170e+06\n",
       "Singapore            5234  2.510889e+04  2.918376e+06\n",
       "Austria              4824  1.636400e+03  4.909277e+06"
      ]
     },
     "execution_count": 33,
     "metadata": {},
     "output_type": "execute_result"
    }
   ],
   "source": [
    "top_20_countries_2011 = top_countries(y_2011,20)\n",
    "top_20_countries_2011"
   ]
  },
  {
   "cell_type": "code",
   "execution_count": 34,
   "id": "5fdc6ac8",
   "metadata": {
    "scrolled": true
   },
   "outputs": [
    {
     "data": {
      "image/png": "[encoded data removed]",
      "text/plain": [
       "<Figure size 432x288 with 1 Axes>"
      ]
     },
     "metadata": {
      "needs_background": "light"
     },
     "output_type": "display_data"
    }
   ],
   "source": [
    "# Plot the top 20 countries by sales in 2011\n",
    "\n",
    "plt.bar(list(top_20_countries_2011.index), top_20_countries_2011['Quantity'])\n",
    "plt.xticks(list(top_20_countries_2011.index), rotation='vertical', size=9)\n",
    "plt.xlabel('Country')\n",
    "plt.ylabel('Sales in USD ($)')\n",
    "plt.title('Top 20 countries by sales in 2011')\n",
    "plt.yticks([100000, 1000000, 2000000, 3000000, 4000000])\n",
    "\n",
    "plt.show()"
   ]
  },
  {
   "cell_type": "markdown",
   "id": "0c95cd5d",
   "metadata": {},
   "source": [
    "Since UK has significantly more sales than other countries let's hide it to have a better view of all others"
   ]
  },
  {
   "cell_type": "code",
   "execution_count": 35,
   "id": "08c59160",
   "metadata": {},
   "outputs": [
    {
     "data": {
      "image/png": "[encoded data removed]",
      "text/plain": [
       "<Figure size 432x288 with 1 Axes>"
      ]
     },
     "metadata": {
      "needs_background": "light"
     },
     "output_type": "display_data"
    }
   ],
   "source": [
    "# Plot the top 20 countries by sales in 2011 without UK\n",
    "\n",
    "top_20_countries_excl_uk = top_20_countries_2011.iloc[1: , :]\n",
    "\n",
    "plt.bar(list(top_20_countries_excl_uk.index), top_20_countries_excl_uk['Quantity'])\n",
    "plt.xticks(list(top_20_countries_excl_uk.index), rotation='vertical')\n",
    "plt.xlabel('Country')\n",
    "plt.ylabel('Sales in USD ($)')\n",
    "plt.title('Top 20 countries excl. UK by sales in 2011')\n",
    "plt.yticks([25000, 50000, 75000, 100000, 125000, 150000, 175000, 200000])\n",
    "\n",
    "plt.show()"
   ]
  },
  {
   "cell_type": "markdown",
   "id": "28aecc52",
   "metadata": {},
   "source": [
    "### 7.* What was the best month for sales? How moch was earned that month? Plot the ortders per month.\n"
   ]
  },
  {
   "cell_type": "code",
   "execution_count": 36,
   "id": "03bea07f",
   "metadata": {},
   "outputs": [
    {
     "data": {
      "text/html": [
       "<div>\n",
       "<style scoped>\n",
       "    .dataframe tbody tr th:only-of-type {\n",
       "        vertical-align: middle;\n",
       "    }\n",
       "\n",
       "    .dataframe tbody tr th {\n",
       "        vertical-align: top;\n",
       "    }\n",
       "\n",
       "    .dataframe thead th {\n",
       "        text-align: right;\n",
       "    }\n",
       "</style>\n",
       "<table border=\"1\" class=\"dataframe\">\n",
       "  <thead>\n",
       "    <tr style=\"text-align: right;\">\n",
       "      <th></th>\n",
       "      <th>InvoiceNo</th>\n",
       "      <th>StockCode</th>\n",
       "      <th>Description</th>\n",
       "      <th>Quantity</th>\n",
       "      <th>InvoiceDate</th>\n",
       "      <th>UnitPrice</th>\n",
       "      <th>CustomerID</th>\n",
       "      <th>Country</th>\n",
       "    </tr>\n",
       "  </thead>\n",
       "  <tbody>\n",
       "    <tr>\n",
       "      <th>42481</th>\n",
       "      <td>539993</td>\n",
       "      <td>22386</td>\n",
       "      <td>JUMBO BAG PINK POLKADOT</td>\n",
       "      <td>10</td>\n",
       "      <td>2011-01-04 10:00:00</td>\n",
       "      <td>1.95</td>\n",
       "      <td>13313.0</td>\n",
       "      <td>United Kingdom</td>\n",
       "    </tr>\n",
       "    <tr>\n",
       "      <th>42482</th>\n",
       "      <td>539993</td>\n",
       "      <td>21499</td>\n",
       "      <td>BLUE POLKADOT WRAP</td>\n",
       "      <td>25</td>\n",
       "      <td>2011-01-04 10:00:00</td>\n",
       "      <td>0.42</td>\n",
       "      <td>13313.0</td>\n",
       "      <td>United Kingdom</td>\n",
       "    </tr>\n",
       "    <tr>\n",
       "      <th>42483</th>\n",
       "      <td>539993</td>\n",
       "      <td>21498</td>\n",
       "      <td>RED RETROSPOT WRAP</td>\n",
       "      <td>25</td>\n",
       "      <td>2011-01-04 10:00:00</td>\n",
       "      <td>0.42</td>\n",
       "      <td>13313.0</td>\n",
       "      <td>United Kingdom</td>\n",
       "    </tr>\n",
       "    <tr>\n",
       "      <th>42484</th>\n",
       "      <td>539993</td>\n",
       "      <td>22379</td>\n",
       "      <td>RECYCLING BAG RETROSPOT</td>\n",
       "      <td>5</td>\n",
       "      <td>2011-01-04 10:00:00</td>\n",
       "      <td>2.10</td>\n",
       "      <td>13313.0</td>\n",
       "      <td>United Kingdom</td>\n",
       "    </tr>\n",
       "    <tr>\n",
       "      <th>42485</th>\n",
       "      <td>539993</td>\n",
       "      <td>20718</td>\n",
       "      <td>RED RETROSPOT SHOPPER BAG</td>\n",
       "      <td>10</td>\n",
       "      <td>2011-01-04 10:00:00</td>\n",
       "      <td>1.25</td>\n",
       "      <td>13313.0</td>\n",
       "      <td>United Kingdom</td>\n",
       "    </tr>\n",
       "  </tbody>\n",
       "</table>\n",
       "</div>"
      ],
      "text/plain": [
       "      InvoiceNo StockCode                Description  Quantity  \\\n",
       "42481    539993     22386    JUMBO BAG PINK POLKADOT        10   \n",
       "42482    539993     21499         BLUE POLKADOT WRAP        25   \n",
       "42483    539993     21498        RED RETROSPOT WRAP         25   \n",
       "42484    539993     22379   RECYCLING BAG RETROSPOT          5   \n",
       "42485    539993     20718  RED RETROSPOT SHOPPER BAG        10   \n",
       "\n",
       "              InvoiceDate  UnitPrice  CustomerID         Country  \n",
       "42481 2011-01-04 10:00:00       1.95     13313.0  United Kingdom  \n",
       "42482 2011-01-04 10:00:00       0.42     13313.0  United Kingdom  \n",
       "42483 2011-01-04 10:00:00       0.42     13313.0  United Kingdom  \n",
       "42484 2011-01-04 10:00:00       2.10     13313.0  United Kingdom  \n",
       "42485 2011-01-04 10:00:00       1.25     13313.0  United Kingdom  "
      ]
     },
     "execution_count": 36,
     "metadata": {},
     "output_type": "execute_result"
    }
   ],
   "source": [
    "y_2011.head(5)"
   ]
  },
  {
   "cell_type": "code",
   "execution_count": 37,
   "id": "f1725a76",
   "metadata": {},
   "outputs": [],
   "source": [
    "# Make a function to generate a Month column by providing a dataframe\n",
    "\n",
    "def invoice_month(dataframe):\n",
    "    dataframe['InvoiceDate'] = dataframe['InvoiceDate'].astype(str)\n",
    "    dataframe['Month'] = dataframe['InvoiceDate'].str[5:7].astype(int)\n",
    "    return dataframe"
   ]
  },
  {
   "cell_type": "code",
   "execution_count": 38,
   "id": "f8f75cba",
   "metadata": {},
   "outputs": [
    {
     "data": {
      "text/html": [
       "<div>\n",
       "<style scoped>\n",
       "    .dataframe tbody tr th:only-of-type {\n",
       "        vertical-align: middle;\n",
       "    }\n",
       "\n",
       "    .dataframe tbody tr th {\n",
       "        vertical-align: top;\n",
       "    }\n",
       "\n",
       "    .dataframe thead th {\n",
       "        text-align: right;\n",
       "    }\n",
       "</style>\n",
       "<table border=\"1\" class=\"dataframe\">\n",
       "  <thead>\n",
       "    <tr style=\"text-align: right;\">\n",
       "      <th></th>\n",
       "      <th>InvoiceNo</th>\n",
       "      <th>StockCode</th>\n",
       "      <th>Description</th>\n",
       "      <th>Quantity</th>\n",
       "      <th>InvoiceDate</th>\n",
       "      <th>UnitPrice</th>\n",
       "      <th>CustomerID</th>\n",
       "      <th>Country</th>\n",
       "      <th>Month</th>\n",
       "    </tr>\n",
       "  </thead>\n",
       "  <tbody>\n",
       "    <tr>\n",
       "      <th>42481</th>\n",
       "      <td>539993</td>\n",
       "      <td>22386</td>\n",
       "      <td>JUMBO BAG PINK POLKADOT</td>\n",
       "      <td>10</td>\n",
       "      <td>2011-01-04 10:00:00</td>\n",
       "      <td>1.95</td>\n",
       "      <td>13313.0</td>\n",
       "      <td>United Kingdom</td>\n",
       "      <td>1</td>\n",
       "    </tr>\n",
       "    <tr>\n",
       "      <th>42482</th>\n",
       "      <td>539993</td>\n",
       "      <td>21499</td>\n",
       "      <td>BLUE POLKADOT WRAP</td>\n",
       "      <td>25</td>\n",
       "      <td>2011-01-04 10:00:00</td>\n",
       "      <td>0.42</td>\n",
       "      <td>13313.0</td>\n",
       "      <td>United Kingdom</td>\n",
       "      <td>1</td>\n",
       "    </tr>\n",
       "    <tr>\n",
       "      <th>42483</th>\n",
       "      <td>539993</td>\n",
       "      <td>21498</td>\n",
       "      <td>RED RETROSPOT WRAP</td>\n",
       "      <td>25</td>\n",
       "      <td>2011-01-04 10:00:00</td>\n",
       "      <td>0.42</td>\n",
       "      <td>13313.0</td>\n",
       "      <td>United Kingdom</td>\n",
       "      <td>1</td>\n",
       "    </tr>\n",
       "    <tr>\n",
       "      <th>42484</th>\n",
       "      <td>539993</td>\n",
       "      <td>22379</td>\n",
       "      <td>RECYCLING BAG RETROSPOT</td>\n",
       "      <td>5</td>\n",
       "      <td>2011-01-04 10:00:00</td>\n",
       "      <td>2.10</td>\n",
       "      <td>13313.0</td>\n",
       "      <td>United Kingdom</td>\n",
       "      <td>1</td>\n",
       "    </tr>\n",
       "    <tr>\n",
       "      <th>42485</th>\n",
       "      <td>539993</td>\n",
       "      <td>20718</td>\n",
       "      <td>RED RETROSPOT SHOPPER BAG</td>\n",
       "      <td>10</td>\n",
       "      <td>2011-01-04 10:00:00</td>\n",
       "      <td>1.25</td>\n",
       "      <td>13313.0</td>\n",
       "      <td>United Kingdom</td>\n",
       "      <td>1</td>\n",
       "    </tr>\n",
       "    <tr>\n",
       "      <th>...</th>\n",
       "      <td>...</td>\n",
       "      <td>...</td>\n",
       "      <td>...</td>\n",
       "      <td>...</td>\n",
       "      <td>...</td>\n",
       "      <td>...</td>\n",
       "      <td>...</td>\n",
       "      <td>...</td>\n",
       "      <td>...</td>\n",
       "    </tr>\n",
       "    <tr>\n",
       "      <th>541904</th>\n",
       "      <td>581587</td>\n",
       "      <td>22613</td>\n",
       "      <td>PACK OF 20 SPACEBOY NAPKINS</td>\n",
       "      <td>12</td>\n",
       "      <td>2011-12-09 12:50:00</td>\n",
       "      <td>0.85</td>\n",
       "      <td>12680.0</td>\n",
       "      <td>France</td>\n",
       "      <td>12</td>\n",
       "    </tr>\n",
       "    <tr>\n",
       "      <th>541905</th>\n",
       "      <td>581587</td>\n",
       "      <td>22899</td>\n",
       "      <td>CHILDREN'S APRON DOLLY GIRL</td>\n",
       "      <td>6</td>\n",
       "      <td>2011-12-09 12:50:00</td>\n",
       "      <td>2.10</td>\n",
       "      <td>12680.0</td>\n",
       "      <td>France</td>\n",
       "      <td>12</td>\n",
       "    </tr>\n",
       "    <tr>\n",
       "      <th>541906</th>\n",
       "      <td>581587</td>\n",
       "      <td>23254</td>\n",
       "      <td>CHILDRENS CUTLERY DOLLY GIRL</td>\n",
       "      <td>4</td>\n",
       "      <td>2011-12-09 12:50:00</td>\n",
       "      <td>4.15</td>\n",
       "      <td>12680.0</td>\n",
       "      <td>France</td>\n",
       "      <td>12</td>\n",
       "    </tr>\n",
       "    <tr>\n",
       "      <th>541907</th>\n",
       "      <td>581587</td>\n",
       "      <td>23255</td>\n",
       "      <td>CHILDRENS CUTLERY CIRCUS PARADE</td>\n",
       "      <td>4</td>\n",
       "      <td>2011-12-09 12:50:00</td>\n",
       "      <td>4.15</td>\n",
       "      <td>12680.0</td>\n",
       "      <td>France</td>\n",
       "      <td>12</td>\n",
       "    </tr>\n",
       "    <tr>\n",
       "      <th>541908</th>\n",
       "      <td>581587</td>\n",
       "      <td>22138</td>\n",
       "      <td>BAKING SET 9 PIECE RETROSPOT</td>\n",
       "      <td>3</td>\n",
       "      <td>2011-12-09 12:50:00</td>\n",
       "      <td>4.95</td>\n",
       "      <td>12680.0</td>\n",
       "      <td>France</td>\n",
       "      <td>12</td>\n",
       "    </tr>\n",
       "  </tbody>\n",
       "</table>\n",
       "<p>499428 rows × 9 columns</p>\n",
       "</div>"
      ],
      "text/plain": [
       "       InvoiceNo StockCode                      Description  Quantity  \\\n",
       "42481     539993     22386          JUMBO BAG PINK POLKADOT        10   \n",
       "42482     539993     21499               BLUE POLKADOT WRAP        25   \n",
       "42483     539993     21498              RED RETROSPOT WRAP         25   \n",
       "42484     539993     22379         RECYCLING BAG RETROSPOT          5   \n",
       "42485     539993     20718        RED RETROSPOT SHOPPER BAG        10   \n",
       "...          ...       ...                              ...       ...   \n",
       "541904    581587     22613      PACK OF 20 SPACEBOY NAPKINS        12   \n",
       "541905    581587     22899     CHILDREN'S APRON DOLLY GIRL          6   \n",
       "541906    581587     23254    CHILDRENS CUTLERY DOLLY GIRL          4   \n",
       "541907    581587     23255  CHILDRENS CUTLERY CIRCUS PARADE         4   \n",
       "541908    581587     22138    BAKING SET 9 PIECE RETROSPOT          3   \n",
       "\n",
       "                InvoiceDate  UnitPrice  CustomerID         Country  Month  \n",
       "42481   2011-01-04 10:00:00       1.95     13313.0  United Kingdom      1  \n",
       "42482   2011-01-04 10:00:00       0.42     13313.0  United Kingdom      1  \n",
       "42483   2011-01-04 10:00:00       0.42     13313.0  United Kingdom      1  \n",
       "42484   2011-01-04 10:00:00       2.10     13313.0  United Kingdom      1  \n",
       "42485   2011-01-04 10:00:00       1.25     13313.0  United Kingdom      1  \n",
       "...                     ...        ...         ...             ...    ...  \n",
       "541904  2011-12-09 12:50:00       0.85     12680.0          France     12  \n",
       "541905  2011-12-09 12:50:00       2.10     12680.0          France     12  \n",
       "541906  2011-12-09 12:50:00       4.15     12680.0          France     12  \n",
       "541907  2011-12-09 12:50:00       4.15     12680.0          France     12  \n",
       "541908  2011-12-09 12:50:00       4.95     12680.0          France     12  \n",
       "\n",
       "[499428 rows x 9 columns]"
      ]
     },
     "execution_count": 38,
     "metadata": {},
     "output_type": "execute_result"
    }
   ],
   "source": [
    "invoice_month(y_2011)"
   ]
  },
  {
   "cell_type": "code",
   "execution_count": 39,
   "id": "0e8629b0",
   "metadata": {},
   "outputs": [],
   "source": [
    "# Make a function to generate a 'MonetaryValue' column by providing a dataframe\n",
    "# The 'MonetaryValue' column consists of the quantity of product sold multiplied by its unit price\n",
    "\n",
    "def monetary_value(dataframe):\n",
    "    dataframe['MonetaryValue'] = dataframe['Quantity'] * dataframe['UnitPrice']\n",
    "    dataframe['MonetaryValue'] = dataframe['MonetaryValue'].astype(float)\n",
    "    return dataframe"
   ]
  },
  {
   "cell_type": "code",
   "execution_count": 40,
   "id": "82e4cab7",
   "metadata": {},
   "outputs": [
    {
     "data": {
      "text/html": [
       "<div>\n",
       "<style scoped>\n",
       "    .dataframe tbody tr th:only-of-type {\n",
       "        vertical-align: middle;\n",
       "    }\n",
       "\n",
       "    .dataframe tbody tr th {\n",
       "        vertical-align: top;\n",
       "    }\n",
       "\n",
       "    .dataframe thead th {\n",
       "        text-align: right;\n",
       "    }\n",
       "</style>\n",
       "<table border=\"1\" class=\"dataframe\">\n",
       "  <thead>\n",
       "    <tr style=\"text-align: right;\">\n",
       "      <th></th>\n",
       "      <th>InvoiceNo</th>\n",
       "      <th>StockCode</th>\n",
       "      <th>Description</th>\n",
       "      <th>Quantity</th>\n",
       "      <th>InvoiceDate</th>\n",
       "      <th>UnitPrice</th>\n",
       "      <th>CustomerID</th>\n",
       "      <th>Country</th>\n",
       "      <th>Month</th>\n",
       "      <th>MonetaryValue</th>\n",
       "    </tr>\n",
       "  </thead>\n",
       "  <tbody>\n",
       "    <tr>\n",
       "      <th>42481</th>\n",
       "      <td>539993</td>\n",
       "      <td>22386</td>\n",
       "      <td>JUMBO BAG PINK POLKADOT</td>\n",
       "      <td>10</td>\n",
       "      <td>2011-01-04 10:00:00</td>\n",
       "      <td>1.95</td>\n",
       "      <td>13313.0</td>\n",
       "      <td>United Kingdom</td>\n",
       "      <td>1</td>\n",
       "      <td>19.50</td>\n",
       "    </tr>\n",
       "    <tr>\n",
       "      <th>42482</th>\n",
       "      <td>539993</td>\n",
       "      <td>21499</td>\n",
       "      <td>BLUE POLKADOT WRAP</td>\n",
       "      <td>25</td>\n",
       "      <td>2011-01-04 10:00:00</td>\n",
       "      <td>0.42</td>\n",
       "      <td>13313.0</td>\n",
       "      <td>United Kingdom</td>\n",
       "      <td>1</td>\n",
       "      <td>10.50</td>\n",
       "    </tr>\n",
       "    <tr>\n",
       "      <th>42483</th>\n",
       "      <td>539993</td>\n",
       "      <td>21498</td>\n",
       "      <td>RED RETROSPOT WRAP</td>\n",
       "      <td>25</td>\n",
       "      <td>2011-01-04 10:00:00</td>\n",
       "      <td>0.42</td>\n",
       "      <td>13313.0</td>\n",
       "      <td>United Kingdom</td>\n",
       "      <td>1</td>\n",
       "      <td>10.50</td>\n",
       "    </tr>\n",
       "    <tr>\n",
       "      <th>42484</th>\n",
       "      <td>539993</td>\n",
       "      <td>22379</td>\n",
       "      <td>RECYCLING BAG RETROSPOT</td>\n",
       "      <td>5</td>\n",
       "      <td>2011-01-04 10:00:00</td>\n",
       "      <td>2.10</td>\n",
       "      <td>13313.0</td>\n",
       "      <td>United Kingdom</td>\n",
       "      <td>1</td>\n",
       "      <td>10.50</td>\n",
       "    </tr>\n",
       "    <tr>\n",
       "      <th>42485</th>\n",
       "      <td>539993</td>\n",
       "      <td>20718</td>\n",
       "      <td>RED RETROSPOT SHOPPER BAG</td>\n",
       "      <td>10</td>\n",
       "      <td>2011-01-04 10:00:00</td>\n",
       "      <td>1.25</td>\n",
       "      <td>13313.0</td>\n",
       "      <td>United Kingdom</td>\n",
       "      <td>1</td>\n",
       "      <td>12.50</td>\n",
       "    </tr>\n",
       "    <tr>\n",
       "      <th>...</th>\n",
       "      <td>...</td>\n",
       "      <td>...</td>\n",
       "      <td>...</td>\n",
       "      <td>...</td>\n",
       "      <td>...</td>\n",
       "      <td>...</td>\n",
       "      <td>...</td>\n",
       "      <td>...</td>\n",
       "      <td>...</td>\n",
       "      <td>...</td>\n",
       "    </tr>\n",
       "    <tr>\n",
       "      <th>541904</th>\n",
       "      <td>581587</td>\n",
       "      <td>22613</td>\n",
       "      <td>PACK OF 20 SPACEBOY NAPKINS</td>\n",
       "      <td>12</td>\n",
       "      <td>2011-12-09 12:50:00</td>\n",
       "      <td>0.85</td>\n",
       "      <td>12680.0</td>\n",
       "      <td>France</td>\n",
       "      <td>12</td>\n",
       "      <td>10.20</td>\n",
       "    </tr>\n",
       "    <tr>\n",
       "      <th>541905</th>\n",
       "      <td>581587</td>\n",
       "      <td>22899</td>\n",
       "      <td>CHILDREN'S APRON DOLLY GIRL</td>\n",
       "      <td>6</td>\n",
       "      <td>2011-12-09 12:50:00</td>\n",
       "      <td>2.10</td>\n",
       "      <td>12680.0</td>\n",
       "      <td>France</td>\n",
       "      <td>12</td>\n",
       "      <td>12.60</td>\n",
       "    </tr>\n",
       "    <tr>\n",
       "      <th>541906</th>\n",
       "      <td>581587</td>\n",
       "      <td>23254</td>\n",
       "      <td>CHILDRENS CUTLERY DOLLY GIRL</td>\n",
       "      <td>4</td>\n",
       "      <td>2011-12-09 12:50:00</td>\n",
       "      <td>4.15</td>\n",
       "      <td>12680.0</td>\n",
       "      <td>France</td>\n",
       "      <td>12</td>\n",
       "      <td>16.60</td>\n",
       "    </tr>\n",
       "    <tr>\n",
       "      <th>541907</th>\n",
       "      <td>581587</td>\n",
       "      <td>23255</td>\n",
       "      <td>CHILDRENS CUTLERY CIRCUS PARADE</td>\n",
       "      <td>4</td>\n",
       "      <td>2011-12-09 12:50:00</td>\n",
       "      <td>4.15</td>\n",
       "      <td>12680.0</td>\n",
       "      <td>France</td>\n",
       "      <td>12</td>\n",
       "      <td>16.60</td>\n",
       "    </tr>\n",
       "    <tr>\n",
       "      <th>541908</th>\n",
       "      <td>581587</td>\n",
       "      <td>22138</td>\n",
       "      <td>BAKING SET 9 PIECE RETROSPOT</td>\n",
       "      <td>3</td>\n",
       "      <td>2011-12-09 12:50:00</td>\n",
       "      <td>4.95</td>\n",
       "      <td>12680.0</td>\n",
       "      <td>France</td>\n",
       "      <td>12</td>\n",
       "      <td>14.85</td>\n",
       "    </tr>\n",
       "  </tbody>\n",
       "</table>\n",
       "<p>499428 rows × 10 columns</p>\n",
       "</div>"
      ],
      "text/plain": [
       "       InvoiceNo StockCode                      Description  Quantity  \\\n",
       "42481     539993     22386          JUMBO BAG PINK POLKADOT        10   \n",
       "42482     539993     21499               BLUE POLKADOT WRAP        25   \n",
       "42483     539993     21498              RED RETROSPOT WRAP         25   \n",
       "42484     539993     22379         RECYCLING BAG RETROSPOT          5   \n",
       "42485     539993     20718        RED RETROSPOT SHOPPER BAG        10   \n",
       "...          ...       ...                              ...       ...   \n",
       "541904    581587     22613      PACK OF 20 SPACEBOY NAPKINS        12   \n",
       "541905    581587     22899     CHILDREN'S APRON DOLLY GIRL          6   \n",
       "541906    581587     23254    CHILDRENS CUTLERY DOLLY GIRL          4   \n",
       "541907    581587     23255  CHILDRENS CUTLERY CIRCUS PARADE         4   \n",
       "541908    581587     22138    BAKING SET 9 PIECE RETROSPOT          3   \n",
       "\n",
       "                InvoiceDate  UnitPrice  CustomerID         Country  Month  \\\n",
       "42481   2011-01-04 10:00:00       1.95     13313.0  United Kingdom      1   \n",
       "42482   2011-01-04 10:00:00       0.42     13313.0  United Kingdom      1   \n",
       "42483   2011-01-04 10:00:00       0.42     13313.0  United Kingdom      1   \n",
       "42484   2011-01-04 10:00:00       2.10     13313.0  United Kingdom      1   \n",
       "42485   2011-01-04 10:00:00       1.25     13313.0  United Kingdom      1   \n",
       "...                     ...        ...         ...             ...    ...   \n",
       "541904  2011-12-09 12:50:00       0.85     12680.0          France     12   \n",
       "541905  2011-12-09 12:50:00       2.10     12680.0          France     12   \n",
       "541906  2011-12-09 12:50:00       4.15     12680.0          France     12   \n",
       "541907  2011-12-09 12:50:00       4.15     12680.0          France     12   \n",
       "541908  2011-12-09 12:50:00       4.95     12680.0          France     12   \n",
       "\n",
       "        MonetaryValue  \n",
       "42481           19.50  \n",
       "42482           10.50  \n",
       "42483           10.50  \n",
       "42484           10.50  \n",
       "42485           12.50  \n",
       "...               ...  \n",
       "541904          10.20  \n",
       "541905          12.60  \n",
       "541906          16.60  \n",
       "541907          16.60  \n",
       "541908          14.85  \n",
       "\n",
       "[499428 rows x 10 columns]"
      ]
     },
     "execution_count": 40,
     "metadata": {},
     "output_type": "execute_result"
    }
   ],
   "source": [
    "monetary_value(y_2011)"
   ]
  },
  {
   "cell_type": "markdown",
   "id": "a32a1280",
   "metadata": {},
   "source": [
    "### 7. What was the best month for sales? How moch was earned that month?"
   ]
  },
  {
   "cell_type": "code",
   "execution_count": 41,
   "id": "a201f99d",
   "metadata": {},
   "outputs": [],
   "source": [
    "# function to calculate the orders per month\n",
    "\n",
    "def sales_per_month(dataframe):\n",
    "    return dataframe.groupby('Month').sum()\n",
    "    "
   ]
  },
  {
   "cell_type": "code",
   "execution_count": 42,
   "id": "65541c37",
   "metadata": {},
   "outputs": [
    {
     "data": {
      "text/html": [
       "<div>\n",
       "<style scoped>\n",
       "    .dataframe tbody tr th:only-of-type {\n",
       "        vertical-align: middle;\n",
       "    }\n",
       "\n",
       "    .dataframe tbody tr th {\n",
       "        vertical-align: top;\n",
       "    }\n",
       "\n",
       "    .dataframe thead th {\n",
       "        text-align: right;\n",
       "    }\n",
       "</style>\n",
       "<table border=\"1\" class=\"dataframe\">\n",
       "  <thead>\n",
       "    <tr style=\"text-align: right;\">\n",
       "      <th></th>\n",
       "      <th>Quantity</th>\n",
       "      <th>UnitPrice</th>\n",
       "      <th>CustomerID</th>\n",
       "      <th>MonetaryValue</th>\n",
       "    </tr>\n",
       "    <tr>\n",
       "      <th>Month</th>\n",
       "      <th></th>\n",
       "      <th></th>\n",
       "      <th></th>\n",
       "      <th></th>\n",
       "    </tr>\n",
       "  </thead>\n",
       "  <tbody>\n",
       "    <tr>\n",
       "      <th>1</th>\n",
       "      <td>308966</td>\n",
       "      <td>172752.800</td>\n",
       "      <td>3.319198e+08</td>\n",
       "      <td>560000.260</td>\n",
       "    </tr>\n",
       "    <tr>\n",
       "      <th>2</th>\n",
       "      <td>277989</td>\n",
       "      <td>127448.770</td>\n",
       "      <td>3.117809e+08</td>\n",
       "      <td>498062.650</td>\n",
       "    </tr>\n",
       "    <tr>\n",
       "      <th>3</th>\n",
       "      <td>351872</td>\n",
       "      <td>171486.510</td>\n",
       "      <td>4.223298e+08</td>\n",
       "      <td>683267.080</td>\n",
       "    </tr>\n",
       "    <tr>\n",
       "      <th>4</th>\n",
       "      <td>289098</td>\n",
       "      <td>129164.961</td>\n",
       "      <td>3.541194e+08</td>\n",
       "      <td>493207.121</td>\n",
       "    </tr>\n",
       "    <tr>\n",
       "      <th>5</th>\n",
       "      <td>380391</td>\n",
       "      <td>190685.460</td>\n",
       "      <td>4.400088e+08</td>\n",
       "      <td>723333.510</td>\n",
       "    </tr>\n",
       "    <tr>\n",
       "      <th>6</th>\n",
       "      <td>341623</td>\n",
       "      <td>200717.340</td>\n",
       "      <td>4.264710e+08</td>\n",
       "      <td>691123.120</td>\n",
       "    </tr>\n",
       "    <tr>\n",
       "      <th>7</th>\n",
       "      <td>391116</td>\n",
       "      <td>171906.791</td>\n",
       "      <td>4.209226e+08</td>\n",
       "      <td>681300.111</td>\n",
       "    </tr>\n",
       "    <tr>\n",
       "      <th>8</th>\n",
       "      <td>406199</td>\n",
       "      <td>150385.680</td>\n",
       "      <td>4.219478e+08</td>\n",
       "      <td>682680.510</td>\n",
       "    </tr>\n",
       "    <tr>\n",
       "      <th>9</th>\n",
       "      <td>549817</td>\n",
       "      <td>199235.212</td>\n",
       "      <td>6.229373e+08</td>\n",
       "      <td>1019687.622</td>\n",
       "    </tr>\n",
       "    <tr>\n",
       "      <th>10</th>\n",
       "      <td>570532</td>\n",
       "      <td>263434.090</td>\n",
       "      <td>7.727017e+08</td>\n",
       "      <td>1070704.670</td>\n",
       "    </tr>\n",
       "    <tr>\n",
       "      <th>11</th>\n",
       "      <td>740286</td>\n",
       "      <td>327149.850</td>\n",
       "      <td>1.007384e+09</td>\n",
       "      <td>1461756.250</td>\n",
       "    </tr>\n",
       "    <tr>\n",
       "      <th>12</th>\n",
       "      <td>226333</td>\n",
       "      <td>133915.660</td>\n",
       "      <td>2.702551e+08</td>\n",
       "      <td>433668.010</td>\n",
       "    </tr>\n",
       "  </tbody>\n",
       "</table>\n",
       "</div>"
      ],
      "text/plain": [
       "       Quantity   UnitPrice    CustomerID  MonetaryValue\n",
       "Month                                                   \n",
       "1        308966  172752.800  3.319198e+08     560000.260\n",
       "2        277989  127448.770  3.117809e+08     498062.650\n",
       "3        351872  171486.510  4.223298e+08     683267.080\n",
       "4        289098  129164.961  3.541194e+08     493207.121\n",
       "5        380391  190685.460  4.400088e+08     723333.510\n",
       "6        341623  200717.340  4.264710e+08     691123.120\n",
       "7        391116  171906.791  4.209226e+08     681300.111\n",
       "8        406199  150385.680  4.219478e+08     682680.510\n",
       "9        549817  199235.212  6.229373e+08    1019687.622\n",
       "10       570532  263434.090  7.727017e+08    1070704.670\n",
       "11       740286  327149.850  1.007384e+09    1461756.250\n",
       "12       226333  133915.660  2.702551e+08     433668.010"
      ]
     },
     "execution_count": 42,
     "metadata": {},
     "output_type": "execute_result"
    }
   ],
   "source": [
    "# orders per month for the whole 2011\n",
    "\n",
    "orders_2011 = sales_per_month(y_2011)\n",
    "orders_2011"
   ]
  },
  {
   "cell_type": "markdown",
   "id": "dfe61fb9",
   "metadata": {},
   "source": [
    "As you can see, December is the month with less sales, but we have to consider that the prvided data includes the sales to 2011-12-09 12:50:00. So, we are missing 22 days of this month. Since we are using functional progaming, there won't be a problem to re-call the functions over the provided data when we have the whole month December.\n"
   ]
  },
  {
   "cell_type": "markdown",
   "id": "615bde6a",
   "metadata": {},
   "source": [
    "#### Let's plot the orders per month for 2011"
   ]
  },
  {
   "cell_type": "code",
   "execution_count": 43,
   "id": "49fc4776",
   "metadata": {},
   "outputs": [],
   "source": [
    "# function to plot the orders for provided data. the data should have calculated 'MonetaryValue' per order\n",
    "\n",
    "def plot_orders(dataframe):\n",
    "#     calculate how much months are provided in the dataframe\n",
    "    months_range = list(range(1,len(dataframe['MonetaryValue'])+1))\n",
    "    \n",
    "#     plot\n",
    "    plt.bar(months_range, dataframe['MonetaryValue'])\n",
    "    plt.xlabel('Month number')\n",
    "    plt.ylabel('Sales in USD ($)')\n",
    "    plt.title('Orders per month')\n",
    "    plt.xticks(months_range)\n",
    "    plt.show()"
   ]
  },
  {
   "cell_type": "code",
   "execution_count": 44,
   "id": "2f2e2298",
   "metadata": {},
   "outputs": [
    {
     "data": {
      "image/png": "[encoded data removed]",
      "text/plain": [
       "<Figure size 432x288 with 1 Axes>"
      ]
     },
     "metadata": {
      "needs_background": "light"
     },
     "output_type": "display_data"
    }
   ],
   "source": [
    "plot_orders(orders_2011)"
   ]
  },
  {
   "cell_type": "markdown",
   "id": "09a9a3dd",
   "metadata": {},
   "source": [
    "### 8.* What time should we display advertisments to maximize likelihood of customer's buying products?"
   ]
  },
  {
   "cell_type": "code",
   "execution_count": 45,
   "id": "94e5fc60",
   "metadata": {},
   "outputs": [],
   "source": [
    "# this function ensures that the invoice date column is in datetime format\n",
    "\n",
    "def invoicedate_todatetime(dataframe):\n",
    "    dataframe['InvoiceDate'] = pd.to_datetime(dataframe['InvoiceDate'])\n",
    "    return dataframe"
   ]
  },
  {
   "cell_type": "code",
   "execution_count": 46,
   "id": "8fe95dfa",
   "metadata": {},
   "outputs": [
    {
     "data": {
      "text/plain": [
       "InvoiceNo                object\n",
       "StockCode                object\n",
       "Description              object\n",
       "Quantity                  int64\n",
       "InvoiceDate      datetime64[ns]\n",
       "UnitPrice               float64\n",
       "CustomerID              float64\n",
       "Country                  object\n",
       "Month                     int64\n",
       "MonetaryValue           float64\n",
       "dtype: object"
      ]
     },
     "execution_count": 46,
     "metadata": {},
     "output_type": "execute_result"
    }
   ],
   "source": [
    "invoicedate_todatetime(y_2011).dtypes"
   ]
  },
  {
   "cell_type": "code",
   "execution_count": 47,
   "id": "e2b4c3c9",
   "metadata": {},
   "outputs": [],
   "source": [
    "# this function create \"Hour\" and \"Minute\" columns to the provided data based on the \"InvoiceDate\" column\n",
    "\n",
    "def make_hour_and_minute_column(dataframe):\n",
    "    dataframe['Hour'] = dataframe['InvoiceDate'].dt.hour\n",
    "    dataframe['Minute'] = dataframe['InvoiceDate'].dt.minute\n",
    "    return dataframe"
   ]
  },
  {
   "cell_type": "code",
   "execution_count": 48,
   "id": "7848fbfa",
   "metadata": {},
   "outputs": [
    {
     "data": {
      "text/html": [
       "<div>\n",
       "<style scoped>\n",
       "    .dataframe tbody tr th:only-of-type {\n",
       "        vertical-align: middle;\n",
       "    }\n",
       "\n",
       "    .dataframe tbody tr th {\n",
       "        vertical-align: top;\n",
       "    }\n",
       "\n",
       "    .dataframe thead th {\n",
       "        text-align: right;\n",
       "    }\n",
       "</style>\n",
       "<table border=\"1\" class=\"dataframe\">\n",
       "  <thead>\n",
       "    <tr style=\"text-align: right;\">\n",
       "      <th></th>\n",
       "      <th>InvoiceNo</th>\n",
       "      <th>StockCode</th>\n",
       "      <th>Description</th>\n",
       "      <th>Quantity</th>\n",
       "      <th>InvoiceDate</th>\n",
       "      <th>UnitPrice</th>\n",
       "      <th>CustomerID</th>\n",
       "      <th>Country</th>\n",
       "      <th>Month</th>\n",
       "      <th>MonetaryValue</th>\n",
       "      <th>Hour</th>\n",
       "      <th>Minute</th>\n",
       "    </tr>\n",
       "  </thead>\n",
       "  <tbody>\n",
       "    <tr>\n",
       "      <th>42481</th>\n",
       "      <td>539993</td>\n",
       "      <td>22386</td>\n",
       "      <td>JUMBO BAG PINK POLKADOT</td>\n",
       "      <td>10</td>\n",
       "      <td>2011-01-04 10:00:00</td>\n",
       "      <td>1.95</td>\n",
       "      <td>13313.0</td>\n",
       "      <td>United Kingdom</td>\n",
       "      <td>1</td>\n",
       "      <td>19.50</td>\n",
       "      <td>10</td>\n",
       "      <td>0</td>\n",
       "    </tr>\n",
       "    <tr>\n",
       "      <th>42482</th>\n",
       "      <td>539993</td>\n",
       "      <td>21499</td>\n",
       "      <td>BLUE POLKADOT WRAP</td>\n",
       "      <td>25</td>\n",
       "      <td>2011-01-04 10:00:00</td>\n",
       "      <td>0.42</td>\n",
       "      <td>13313.0</td>\n",
       "      <td>United Kingdom</td>\n",
       "      <td>1</td>\n",
       "      <td>10.50</td>\n",
       "      <td>10</td>\n",
       "      <td>0</td>\n",
       "    </tr>\n",
       "    <tr>\n",
       "      <th>42483</th>\n",
       "      <td>539993</td>\n",
       "      <td>21498</td>\n",
       "      <td>RED RETROSPOT WRAP</td>\n",
       "      <td>25</td>\n",
       "      <td>2011-01-04 10:00:00</td>\n",
       "      <td>0.42</td>\n",
       "      <td>13313.0</td>\n",
       "      <td>United Kingdom</td>\n",
       "      <td>1</td>\n",
       "      <td>10.50</td>\n",
       "      <td>10</td>\n",
       "      <td>0</td>\n",
       "    </tr>\n",
       "    <tr>\n",
       "      <th>42484</th>\n",
       "      <td>539993</td>\n",
       "      <td>22379</td>\n",
       "      <td>RECYCLING BAG RETROSPOT</td>\n",
       "      <td>5</td>\n",
       "      <td>2011-01-04 10:00:00</td>\n",
       "      <td>2.10</td>\n",
       "      <td>13313.0</td>\n",
       "      <td>United Kingdom</td>\n",
       "      <td>1</td>\n",
       "      <td>10.50</td>\n",
       "      <td>10</td>\n",
       "      <td>0</td>\n",
       "    </tr>\n",
       "    <tr>\n",
       "      <th>42485</th>\n",
       "      <td>539993</td>\n",
       "      <td>20718</td>\n",
       "      <td>RED RETROSPOT SHOPPER BAG</td>\n",
       "      <td>10</td>\n",
       "      <td>2011-01-04 10:00:00</td>\n",
       "      <td>1.25</td>\n",
       "      <td>13313.0</td>\n",
       "      <td>United Kingdom</td>\n",
       "      <td>1</td>\n",
       "      <td>12.50</td>\n",
       "      <td>10</td>\n",
       "      <td>0</td>\n",
       "    </tr>\n",
       "    <tr>\n",
       "      <th>...</th>\n",
       "      <td>...</td>\n",
       "      <td>...</td>\n",
       "      <td>...</td>\n",
       "      <td>...</td>\n",
       "      <td>...</td>\n",
       "      <td>...</td>\n",
       "      <td>...</td>\n",
       "      <td>...</td>\n",
       "      <td>...</td>\n",
       "      <td>...</td>\n",
       "      <td>...</td>\n",
       "      <td>...</td>\n",
       "    </tr>\n",
       "    <tr>\n",
       "      <th>541904</th>\n",
       "      <td>581587</td>\n",
       "      <td>22613</td>\n",
       "      <td>PACK OF 20 SPACEBOY NAPKINS</td>\n",
       "      <td>12</td>\n",
       "      <td>2011-12-09 12:50:00</td>\n",
       "      <td>0.85</td>\n",
       "      <td>12680.0</td>\n",
       "      <td>France</td>\n",
       "      <td>12</td>\n",
       "      <td>10.20</td>\n",
       "      <td>12</td>\n",
       "      <td>50</td>\n",
       "    </tr>\n",
       "    <tr>\n",
       "      <th>541905</th>\n",
       "      <td>581587</td>\n",
       "      <td>22899</td>\n",
       "      <td>CHILDREN'S APRON DOLLY GIRL</td>\n",
       "      <td>6</td>\n",
       "      <td>2011-12-09 12:50:00</td>\n",
       "      <td>2.10</td>\n",
       "      <td>12680.0</td>\n",
       "      <td>France</td>\n",
       "      <td>12</td>\n",
       "      <td>12.60</td>\n",
       "      <td>12</td>\n",
       "      <td>50</td>\n",
       "    </tr>\n",
       "    <tr>\n",
       "      <th>541906</th>\n",
       "      <td>581587</td>\n",
       "      <td>23254</td>\n",
       "      <td>CHILDRENS CUTLERY DOLLY GIRL</td>\n",
       "      <td>4</td>\n",
       "      <td>2011-12-09 12:50:00</td>\n",
       "      <td>4.15</td>\n",
       "      <td>12680.0</td>\n",
       "      <td>France</td>\n",
       "      <td>12</td>\n",
       "      <td>16.60</td>\n",
       "      <td>12</td>\n",
       "      <td>50</td>\n",
       "    </tr>\n",
       "    <tr>\n",
       "      <th>541907</th>\n",
       "      <td>581587</td>\n",
       "      <td>23255</td>\n",
       "      <td>CHILDRENS CUTLERY CIRCUS PARADE</td>\n",
       "      <td>4</td>\n",
       "      <td>2011-12-09 12:50:00</td>\n",
       "      <td>4.15</td>\n",
       "      <td>12680.0</td>\n",
       "      <td>France</td>\n",
       "      <td>12</td>\n",
       "      <td>16.60</td>\n",
       "      <td>12</td>\n",
       "      <td>50</td>\n",
       "    </tr>\n",
       "    <tr>\n",
       "      <th>541908</th>\n",
       "      <td>581587</td>\n",
       "      <td>22138</td>\n",
       "      <td>BAKING SET 9 PIECE RETROSPOT</td>\n",
       "      <td>3</td>\n",
       "      <td>2011-12-09 12:50:00</td>\n",
       "      <td>4.95</td>\n",
       "      <td>12680.0</td>\n",
       "      <td>France</td>\n",
       "      <td>12</td>\n",
       "      <td>14.85</td>\n",
       "      <td>12</td>\n",
       "      <td>50</td>\n",
       "    </tr>\n",
       "  </tbody>\n",
       "</table>\n",
       "<p>499428 rows × 12 columns</p>\n",
       "</div>"
      ],
      "text/plain": [
       "       InvoiceNo StockCode                      Description  Quantity  \\\n",
       "42481     539993     22386          JUMBO BAG PINK POLKADOT        10   \n",
       "42482     539993     21499               BLUE POLKADOT WRAP        25   \n",
       "42483     539993     21498              RED RETROSPOT WRAP         25   \n",
       "42484     539993     22379         RECYCLING BAG RETROSPOT          5   \n",
       "42485     539993     20718        RED RETROSPOT SHOPPER BAG        10   \n",
       "...          ...       ...                              ...       ...   \n",
       "541904    581587     22613      PACK OF 20 SPACEBOY NAPKINS        12   \n",
       "541905    581587     22899     CHILDREN'S APRON DOLLY GIRL          6   \n",
       "541906    581587     23254    CHILDRENS CUTLERY DOLLY GIRL          4   \n",
       "541907    581587     23255  CHILDRENS CUTLERY CIRCUS PARADE         4   \n",
       "541908    581587     22138    BAKING SET 9 PIECE RETROSPOT          3   \n",
       "\n",
       "               InvoiceDate  UnitPrice  CustomerID         Country  Month  \\\n",
       "42481  2011-01-04 10:00:00       1.95     13313.0  United Kingdom      1   \n",
       "42482  2011-01-04 10:00:00       0.42     13313.0  United Kingdom      1   \n",
       "42483  2011-01-04 10:00:00       0.42     13313.0  United Kingdom      1   \n",
       "42484  2011-01-04 10:00:00       2.10     13313.0  United Kingdom      1   \n",
       "42485  2011-01-04 10:00:00       1.25     13313.0  United Kingdom      1   \n",
       "...                    ...        ...         ...             ...    ...   \n",
       "541904 2011-12-09 12:50:00       0.85     12680.0          France     12   \n",
       "541905 2011-12-09 12:50:00       2.10     12680.0          France     12   \n",
       "541906 2011-12-09 12:50:00       4.15     12680.0          France     12   \n",
       "541907 2011-12-09 12:50:00       4.15     12680.0          France     12   \n",
       "541908 2011-12-09 12:50:00       4.95     12680.0          France     12   \n",
       "\n",
       "        MonetaryValue  Hour  Minute  \n",
       "42481           19.50    10       0  \n",
       "42482           10.50    10       0  \n",
       "42483           10.50    10       0  \n",
       "42484           10.50    10       0  \n",
       "42485           12.50    10       0  \n",
       "...               ...   ...     ...  \n",
       "541904          10.20    12      50  \n",
       "541905          12.60    12      50  \n",
       "541906          16.60    12      50  \n",
       "541907          16.60    12      50  \n",
       "541908          14.85    12      50  \n",
       "\n",
       "[499428 rows x 12 columns]"
      ]
     },
     "execution_count": 48,
     "metadata": {},
     "output_type": "execute_result"
    }
   ],
   "source": [
    "make_hour_and_minute_column(y_2011)"
   ]
  },
  {
   "cell_type": "code",
   "execution_count": 49,
   "id": "d4c8dadc",
   "metadata": {},
   "outputs": [
    {
     "data": {
      "text/plain": [
       "[6, 7, 8, 9, 10, 11, 12, 13, 14, 15, 16, 17, 18, 19, 20]"
      ]
     },
     "execution_count": 49,
     "metadata": {},
     "output_type": "execute_result"
    }
   ],
   "source": [
    "# group the orders in 2011 by the time the order was placed\n",
    "\n",
    "hours = [hour for hour, df in y_2011.groupby('Hour')]\n",
    "hours"
   ]
  },
  {
   "cell_type": "code",
   "execution_count": 50,
   "id": "969ddbd0",
   "metadata": {},
   "outputs": [],
   "source": [
    "# calclate the orders placed in every hour\n",
    "\n",
    "count_by_hours = y_2011.groupby(['Hour']).count()"
   ]
  },
  {
   "cell_type": "code",
   "execution_count": 51,
   "id": "e09d7a21",
   "metadata": {
    "scrolled": false
   },
   "outputs": [
    {
     "data": {
      "image/png": "[encoded data removed]",
      "text/plain": [
       "<Figure size 432x288 with 1 Axes>"
      ]
     },
     "metadata": {
      "needs_background": "light"
     },
     "output_type": "display_data"
    }
   ],
   "source": [
    "# plot the orders per hour for year 2011\n",
    "\n",
    "plt.plot(hours, list(count_by_hours['InvoiceNo']))\n",
    "plt.xticks(hours)\n",
    "plt.title('Orders per hour for 2011')\n",
    "plt.xlabel('Hour')\n",
    "plt.ylabel('Number of Orders')\n",
    "plt.grid()\n",
    "plt.show()"
   ]
  },
  {
   "cell_type": "markdown",
   "id": "c46a7c63",
   "metadata": {},
   "source": [
    "My recommendation is to start around 11.30am (11.30) and stop around 3.30pm (15.30)  "
   ]
  },
  {
   "cell_type": "markdown",
   "id": "5abeb5ad",
   "metadata": {},
   "source": [
    "### 9.* Find the Key Clients to send them gifts, promotional materials and contract for distribution\n"
   ]
  },
  {
   "cell_type": "code",
   "execution_count": 52,
   "id": "bec59e23",
   "metadata": {},
   "outputs": [],
   "source": [
    "# Find the key clients\n",
    "\n",
    "def top_clients(dataframe, num_clients):\n",
    "    data_sorted_by_clients = dataframe.groupby('CustomerID').sum()\n",
    "    data_sorted_by_clients = data_sorted_by_clients.sort_values(by='Quantity', ascending=False).head(num_clients)\n",
    "    return data_sorted_by_clients"
   ]
  },
  {
   "cell_type": "code",
   "execution_count": 53,
   "id": "b878175e",
   "metadata": {
    "scrolled": true
   },
   "outputs": [
    {
     "data": {
      "text/plain": [
       "[14646.0, 12415.0, 14911.0, 17450.0, 13694.0]"
      ]
     },
     "execution_count": 53,
     "metadata": {},
     "output_type": "execute_result"
    }
   ],
   "source": [
    "# keep the top customers on orders in a list with the desired length\n",
    "\n",
    "top_five_clinets = list(top_clients(y_2011,5).index)\n",
    "top_five_clinets"
   ]
  },
  {
   "cell_type": "code",
   "execution_count": 54,
   "id": "f6641de2",
   "metadata": {},
   "outputs": [],
   "source": [
    "# Pint n top clients\n",
    "\n",
    "def print_top_clinets(clients_array):\n",
    "    print('List of top {n_clients} clienst:'.format(n_clients = len(clients_array)))\n",
    "    i=1\n",
    "    for client in clients_array:\n",
    "        print('{nr}. {client_id}'.format(nr=str(i), client_id = client))\n",
    "        i+=1"
   ]
  },
  {
   "cell_type": "code",
   "execution_count": 55,
   "id": "9f517e3c",
   "metadata": {},
   "outputs": [
    {
     "name": "stdout",
     "output_type": "stream",
     "text": [
      "List of top 5 clienst:\n",
      "1. 14646.0\n",
      "2. 12415.0\n",
      "3. 14911.0\n",
      "4. 17450.0\n",
      "5. 13694.0\n"
     ]
    }
   ],
   "source": [
    "print_top_clinets(top_five_clinets)"
   ]
  },
  {
   "cell_type": "markdown",
   "id": "5472239e",
   "metadata": {},
   "source": [
    "<hr style=\"height:1px\">\n",
    "\n",
    "<center>\n",
    "These analyzes were performed by Ventsislav Georgiev.<br>\n",
    "You can follow the process in github:<br>\n",
    "    <a href=\"https://github.com/georgiev-ventsi/ecommerce-data-analysis\">https://github.com/georgiev-ventsi/ecommerce-data-analysis </a>\n",
    "</center>\n",
    "\n",
    "<hr style=\"height:1px\">"
   ]
  }
 ],
 "metadata": {
  "kernelspec": {
   "display_name": "Python 3",
   "language": "python",
   "name": "python3"
  },
  "language_info": {
   "codemirror_mode": {
    "name": "ipython",
    "version": 3
   },
   "file_extension": ".py",
   "mimetype": "text/x-python",
   "name": "python",
   "nbconvert_exporter": "python",
   "pygments_lexer": "ipython3",
   "version": "3.8.10"
  }
 },
 "nbformat": 4,
 "nbformat_minor": 5
}
